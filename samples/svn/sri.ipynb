{
 "cells": [
  {
   "cell_type": "markdown",
   "id": "d7dc6929",
   "metadata": {
    "papermill": {
     "duration": 0.018234,
     "end_time": "2021-08-30T18:18:21.970714",
     "exception": false,
     "start_time": "2021-08-30T18:18:21.952480",
     "status": "completed"
    },
    "tags": []
   },
   "source": [
    "# SVN Reports Dashboard\n",
    "Reporting import/upload pipelines"
   ]
  },
  {
   "cell_type": "markdown",
   "id": "4e82624a",
   "metadata": {
    "papermill": {
     "duration": 0.008704,
     "end_time": "2021-08-30T18:18:21.990042",
     "exception": false,
     "start_time": "2021-08-30T18:18:21.981338",
     "status": "completed"
    },
    "tags": [
     "remove_cell"
    ]
   },
   "source": [
    "### Import Libraries\n",
    "Libraries necessary to parse through each dashboard"
   ]
  },
  {
   "cell_type": "code",
   "execution_count": 1,
   "id": "a6b80ae9",
   "metadata": {
    "execution": {
     "iopub.execute_input": "2021-08-30T18:18:22.014147Z",
     "iopub.status.busy": "2021-08-30T18:18:22.013618Z",
     "iopub.status.idle": "2021-08-30T18:18:22.261389Z",
     "shell.execute_reply": "2021-08-30T18:18:22.261622Z"
    },
    "papermill": {
     "duration": 0.262183,
     "end_time": "2021-08-30T18:18:22.261812",
     "exception": false,
     "start_time": "2021-08-30T18:18:21.999629",
     "status": "completed"
    },
    "tags": [
     "remove_cell"
    ]
   },
   "outputs": [],
   "source": [
    "import datetime\n",
    "from IPython.display import display, Markdown, Latex\n",
    "import json\n",
    "import numpy as np\n",
    "import pandas as pd"
   ]
  },
  {
   "cell_type": "markdown",
   "id": "8ac4b242",
   "metadata": {
    "papermill": {
     "duration": 0.004145,
     "end_time": "2021-08-30T18:18:22.270595",
     "exception": false,
     "start_time": "2021-08-30T18:18:22.266450",
     "status": "completed"
    },
    "tags": [
     "remove_cell"
    ]
   },
   "source": [
    "### Parametrization\n",
    "Adding parameters for Papermill"
   ]
  },
  {
   "cell_type": "code",
   "execution_count": 2,
   "id": "ccc689f1",
   "metadata": {
    "execution": {
     "iopub.execute_input": "2021-08-30T18:18:22.281281Z",
     "iopub.status.busy": "2021-08-30T18:18:22.280877Z",
     "iopub.status.idle": "2021-08-30T18:18:22.282261Z",
     "shell.execute_reply": "2021-08-30T18:18:22.282526Z"
    },
    "papermill": {
     "duration": 0.007947,
     "end_time": "2021-08-30T18:18:22.282643",
     "exception": false,
     "start_time": "2021-08-30T18:18:22.274696",
     "status": "completed"
    },
    "tags": [
     "parameters"
    ]
   },
   "outputs": [],
   "source": [
    "site: str"
   ]
  },
  {
   "cell_type": "code",
   "execution_count": 3,
   "id": "1c945450",
   "metadata": {
    "execution": {
     "iopub.execute_input": "2021-08-30T18:18:22.293292Z",
     "iopub.status.busy": "2021-08-30T18:18:22.292879Z",
     "iopub.status.idle": "2021-08-30T18:18:22.294158Z",
     "shell.execute_reply": "2021-08-30T18:18:22.294403Z"
    },
    "papermill": {
     "duration": 0.007537,
     "end_time": "2021-08-30T18:18:22.294513",
     "exception": false,
     "start_time": "2021-08-30T18:18:22.286976",
     "status": "completed"
    },
    "tags": [
     "injected-parameters"
    ]
   },
   "outputs": [],
   "source": [
    "# Parameters\n",
    "site = \"sri\"\n"
   ]
  },
  {
   "cell_type": "markdown",
   "id": "37709e19",
   "metadata": {
    "papermill": {
     "duration": 0.004348,
     "end_time": "2021-08-30T18:18:22.303157",
     "exception": false,
     "start_time": "2021-08-30T18:18:22.298809",
     "status": "completed"
    },
    "tags": [
     "remove_cell"
    ]
   },
   "source": [
    "### Setting Column Names\n",
    "Use an existing JSON file"
   ]
  },
  {
   "cell_type": "code",
   "execution_count": 4,
   "id": "cbbdb3b5",
   "metadata": {
    "execution": {
     "iopub.execute_input": "2021-08-30T18:18:22.314458Z",
     "iopub.status.busy": "2021-08-30T18:18:22.314060Z",
     "iopub.status.idle": "2021-08-30T18:18:22.315369Z",
     "shell.execute_reply": "2021-08-30T18:18:22.315635Z"
    },
    "papermill": {
     "duration": 0.008362,
     "end_time": "2021-08-30T18:18:22.315755",
     "exception": false,
     "start_time": "2021-08-30T18:18:22.307393",
     "status": "completed"
    },
    "tags": [
     "remove_cell"
    ]
   },
   "outputs": [],
   "source": [
    "def get_special_columns(file_path):\n",
    "    f = open(file_path, \"r\")\n",
    "    data = json.load(f)\n",
    "    return data[0]\n",
    "\n",
    "new_column_names = get_special_columns(\"reference/svn_col_names.json\")"
   ]
  },
  {
   "cell_type": "markdown",
   "id": "6a2a8396",
   "metadata": {
    "papermill": {
     "duration": 0.004264,
     "end_time": "2021-08-30T18:18:22.324471",
     "exception": false,
     "start_time": "2021-08-30T18:18:22.320207",
     "status": "completed"
    },
    "tags": [
     "remove_cell"
    ]
   },
   "source": [
    "### Set up Table Styles\n",
    "Use `pandas.style` to set up some graphical styles for the main reports table."
   ]
  },
  {
   "cell_type": "code",
   "execution_count": 5,
   "id": "f792b631",
   "metadata": {
    "execution": {
     "iopub.execute_input": "2021-08-30T18:18:22.336744Z",
     "iopub.status.busy": "2021-08-30T18:18:22.336339Z",
     "iopub.status.idle": "2021-08-30T18:18:22.337627Z",
     "shell.execute_reply": "2021-08-30T18:18:22.337870Z"
    },
    "papermill": {
     "duration": 0.009208,
     "end_time": "2021-08-30T18:18:22.337983",
     "exception": false,
     "start_time": "2021-08-30T18:18:22.328775",
     "status": "completed"
    },
    "tags": [
     "remove_cell"
    ]
   },
   "outputs": [],
   "source": [
    "table_styles = [{\n",
    "    'selector': 'td',\n",
    "    'props': [('background-color', '#FFFFFF'), ('color', '#000000')]\n",
    "}, \n",
    "{\n",
    "    'selector': 'th',\n",
    "    'props': [('background-color', '#000000'), ('color', '#FFFFFF')]\n",
    "}]\n",
    "\n",
    "def style_row(x):\n",
    "    # For the sla_percentage: row == 3\n",
    "    style = [None] * x.size\n",
    "    sample_series = pd.DataFrame(data=x).iloc[3]\n",
    "    for index, value in sample_series.items():\n",
    "        if (value > 1):\n",
    "            style[3] = \"color: red !important;\"\n",
    "            if (value > 10):\n",
    "                style[3] = style[3] + \" font-weight: bold;\"\n",
    "    return style"
   ]
  },
  {
   "cell_type": "markdown",
   "id": "3ffacc5d",
   "metadata": {
    "papermill": {
     "duration": 0.004298,
     "end_time": "2021-08-30T18:18:22.346686",
     "exception": false,
     "start_time": "2021-08-30T18:18:22.342388",
     "status": "completed"
    },
    "tags": [
     "remove_cell"
    ]
   },
   "source": [
    "### Define Functions\n",
    "Define functions to parse through each of the sites and print them to the screen"
   ]
  },
  {
   "cell_type": "code",
   "execution_count": 6,
   "id": "061ba20b",
   "metadata": {
    "execution": {
     "iopub.execute_input": "2021-08-30T18:18:22.360629Z",
     "iopub.status.busy": "2021-08-30T18:18:22.360204Z",
     "iopub.status.idle": "2021-08-30T18:18:22.361506Z",
     "shell.execute_reply": "2021-08-30T18:18:22.361759Z"
    },
    "papermill": {
     "duration": 0.010917,
     "end_time": "2021-08-30T18:18:22.361874",
     "exception": false,
     "start_time": "2021-08-30T18:18:22.350957",
     "status": "completed"
    },
    "tags": [
     "remove_cell"
    ]
   },
   "outputs": [],
   "source": [
    "# In future iterations, display path is:  '../../../../../log/status_reports/'\n",
    "def load_dataframe_and_display(file_name=None):\n",
    "    # Header and load in dataframe\n",
    "    display(Markdown('## SLA ' + file_name + ' Dashboard'))\n",
    "    df = pd.read_csv('status_reports/' + file_name.lower() + '.csv', parse_dates=['date_updated'])\n",
    "    durations = df['sla'].unique().tolist()\n",
    "    durations = np.sort(durations)\n",
    "    \n",
    "    # Categorize each report by SLA (3, 30, 3000 -> Dead)\n",
    "    for duration in durations:\n",
    "        # Find specific data subset and \n",
    "        duration_df = df.loc[df['sla'] == duration] # Find specific dataframe\n",
    "        duration_df = duration_df.rename(columns={'laptop':'Laptop'}, errors=\"raise\")\n",
    "        \n",
    "        # Create header\n",
    "        duration_str = str(duration) + '-Day'\n",
    "        if (duration == 3000):\n",
    "            duration_str = 'Dead'\n",
    "        display(Markdown(duration_str + ' SLA Laptop Report'))\n",
    "        \n",
    "        # Set index and update date format (latter is hacky -> can fix)\n",
    "        duration_df = duration_df.set_index(['Laptop'])\n",
    "        if (duration == 3):\n",
    "            duration_df['date_updated'] = duration_df['date_updated'].dt.strftime('%Y-%m-%d %H:%M')\n",
    "            duration_df['time_diff'] = duration_df['time_diff'].apply(lambda x: str(x)[:str(x).find(\".\") - 3])\n",
    "        else:\n",
    "            duration_df['date_updated'] = duration_df['date_updated'].dt.strftime('%Y-%m-%d')\n",
    "            duration_df['time_diff'] = duration_df['time_diff'].apply(lambda x: str(x)[:str(x).find(\"days\") + len(\"days\")])\n",
    "            \n",
    "        # Rename columns, style, and display\n",
    "        duration_df = duration_df.rename(columns=new_column_names)\n",
    "        se = duration_df.style.set_table_styles(table_styles).apply(lambda x: style_row(x), axis=1)\n",
    "        display(se)\n",
    "        \n",
    "def main():\n",
    "    load_dataframe_and_display(site)"
   ]
  },
  {
   "cell_type": "markdown",
   "id": "0fc176ed",
   "metadata": {
    "papermill": {
     "duration": 0.004379,
     "end_time": "2021-08-30T18:18:22.370836",
     "exception": false,
     "start_time": "2021-08-30T18:18:22.366457",
     "status": "completed"
    },
    "tags": [
     "remove_cell"
    ]
   },
   "source": [
    "### Run all\n",
    "Run functions and produce dashboards for each site"
   ]
  },
  {
   "cell_type": "code",
   "execution_count": 7,
   "id": "53c5b33e",
   "metadata": {
    "execution": {
     "iopub.execute_input": "2021-08-30T18:18:22.384572Z",
     "iopub.status.busy": "2021-08-30T18:18:22.384164Z",
     "iopub.status.idle": "2021-08-30T18:18:22.632751Z",
     "shell.execute_reply": "2021-08-30T18:18:22.633063Z"
    },
    "papermill": {
     "duration": 0.258034,
     "end_time": "2021-08-30T18:18:22.633187",
     "exception": false,
     "start_time": "2021-08-30T18:18:22.375153",
     "status": "completed"
    },
    "tags": []
   },
   "outputs": [
    {
     "data": {
      "text/markdown": [
       "## SLA sri Dashboard"
      ],
      "text/plain": [
       "<IPython.core.display.Markdown object>"
      ]
     },
     "metadata": {},
     "output_type": "display_data"
    },
    {
     "data": {
      "text/markdown": [
       "30-Day SLA Laptop Report"
      ],
      "text/plain": [
       "<IPython.core.display.Markdown object>"
      ]
     },
     "metadata": {},
     "output_type": "display_data"
    },
    {
     "data": {
      "text/html": [
       "<style  type=\"text/css\" >\n",
       "    #T_b5c4f_ td {\n",
       "          background-color: #FFFFFF;\n",
       "          color: #000000;\n",
       "    }    #T_b5c4f_ th {\n",
       "          background-color: #000000;\n",
       "          color: #FFFFFF;\n",
       "    }#T_b5c4f_row0_col3,#T_b5c4f_row1_col3,#T_b5c4f_row2_col3{\n",
       "            color:  red !important;\n",
       "             font-weight:  bold;\n",
       "        }</style><table id=\"T_b5c4f_\" ><thead>    <tr>        <th class=\"blank level0\" ></th>        <th class=\"col_heading level0 col0\" >Date Updated</th>        <th class=\"col_heading level0 col1\" >Time Difference</th>        <th class=\"col_heading level0 col2\" >SLA</th>        <th class=\"col_heading level0 col3\" >SLA %</th>    </tr>    <tr>        <th class=\"index_name level0\" >Laptop</th>        <th class=\"blank\" ></th>        <th class=\"blank\" ></th>        <th class=\"blank\" ></th>        <th class=\"blank\" ></th>    </tr></thead><tbody>\n",
       "                <tr>\n",
       "                        <th id=\"T_b5c4f_level0_row0\" class=\"row_heading level0 row0\" >sri52</th>\n",
       "                        <td id=\"T_b5c4f_row0_col0\" class=\"data row0 col0\" >2018-09-27</td>\n",
       "                        <td id=\"T_b5c4f_row0_col1\" class=\"data row0 col1\" >1068 days</td>\n",
       "                        <td id=\"T_b5c4f_row0_col2\" class=\"data row0 col2\" >30</td>\n",
       "                        <td id=\"T_b5c4f_row0_col3\" class=\"data row0 col3\" >35.623180</td>\n",
       "            </tr>\n",
       "            <tr>\n",
       "                        <th id=\"T_b5c4f_level0_row1\" class=\"row_heading level0 row1\" >sri51</th>\n",
       "                        <td id=\"T_b5c4f_row1_col0\" class=\"data row1 col0\" >2019-04-08</td>\n",
       "                        <td id=\"T_b5c4f_row1_col1\" class=\"data row1 col1\" >875 days</td>\n",
       "                        <td id=\"T_b5c4f_row1_col2\" class=\"data row1 col2\" >30</td>\n",
       "                        <td id=\"T_b5c4f_row1_col3\" class=\"data row1 col3\" >29.167261</td>\n",
       "            </tr>\n",
       "            <tr>\n",
       "                        <th id=\"T_b5c4f_level0_row2\" class=\"row_heading level0 row2\" >sri50</th>\n",
       "                        <td id=\"T_b5c4f_row2_col0\" class=\"data row2 col0\" >2020-03-02</td>\n",
       "                        <td id=\"T_b5c4f_row2_col1\" class=\"data row2 col1\" >545 days</td>\n",
       "                        <td id=\"T_b5c4f_row2_col2\" class=\"data row2 col2\" >30</td>\n",
       "                        <td id=\"T_b5c4f_row2_col3\" class=\"data row2 col3\" >18.193990</td>\n",
       "            </tr>\n",
       "    </tbody></table>"
      ],
      "text/plain": [
       "<pandas.io.formats.style.Styler at 0x7ffd781d2e20>"
      ]
     },
     "metadata": {},
     "output_type": "display_data"
    },
    {
     "data": {
      "text/markdown": [
       "Dead SLA Laptop Report"
      ],
      "text/plain": [
       "<IPython.core.display.Markdown object>"
      ]
     },
     "metadata": {},
     "output_type": "display_data"
    },
    {
     "data": {
      "text/html": [
       "<style  type=\"text/css\" >\n",
       "    #T_5067d_ td {\n",
       "          background-color: #FFFFFF;\n",
       "          color: #000000;\n",
       "    }    #T_5067d_ th {\n",
       "          background-color: #000000;\n",
       "          color: #FFFFFF;\n",
       "    }</style><table id=\"T_5067d_\" ><thead>    <tr>        <th class=\"blank level0\" ></th>        <th class=\"col_heading level0 col0\" >Date Updated</th>        <th class=\"col_heading level0 col1\" >Time Difference</th>        <th class=\"col_heading level0 col2\" >SLA</th>        <th class=\"col_heading level0 col3\" >SLA %</th>    </tr>    <tr>        <th class=\"index_name level0\" >Laptop</th>        <th class=\"blank\" ></th>        <th class=\"blank\" ></th>        <th class=\"blank\" ></th>        <th class=\"blank\" ></th>    </tr></thead><tbody>\n",
       "                <tr>\n",
       "                        <th id=\"T_5067d_level0_row0\" class=\"row_heading level0 row0\" >sri38</th>\n",
       "                        <td id=\"T_5067d_row0_col0\" class=\"data row0 col0\" >2014-03-20</td>\n",
       "                        <td id=\"T_5067d_row0_col1\" class=\"data row0 col1\" >2719 days</td>\n",
       "                        <td id=\"T_5067d_row0_col2\" class=\"data row0 col2\" >3000</td>\n",
       "                        <td id=\"T_5067d_row0_col3\" class=\"data row0 col3\" >0.906653</td>\n",
       "            </tr>\n",
       "            <tr>\n",
       "                        <th id=\"T_5067d_level0_row1\" class=\"row_heading level0 row1\" >sri-merge</th>\n",
       "                        <td id=\"T_5067d_row1_col0\" class=\"data row1 col0\" >2014-07-24</td>\n",
       "                        <td id=\"T_5067d_row1_col1\" class=\"data row1 col1\" >2594 days</td>\n",
       "                        <td id=\"T_5067d_row1_col2\" class=\"data row1 col2\" >3000</td>\n",
       "                        <td id=\"T_5067d_row1_col3\" class=\"data row1 col3\" >0.864668</td>\n",
       "            </tr>\n",
       "            <tr>\n",
       "                        <th id=\"T_5067d_level0_row2\" class=\"row_heading level0 row2\" >sri29</th>\n",
       "                        <td id=\"T_5067d_row2_col0\" class=\"data row2 col0\" >2018-03-02</td>\n",
       "                        <td id=\"T_5067d_row2_col1\" class=\"data row2 col1\" >1276 days</td>\n",
       "                        <td id=\"T_5067d_row2_col2\" class=\"data row2 col2\" >3000</td>\n",
       "                        <td id=\"T_5067d_row2_col3\" class=\"data row2 col3\" >0.425661</td>\n",
       "            </tr>\n",
       "            <tr>\n",
       "                        <th id=\"T_5067d_level0_row3\" class=\"row_heading level0 row3\" >sri5</th>\n",
       "                        <td id=\"T_5067d_row3_col0\" class=\"data row3 col0\" >2018-03-15</td>\n",
       "                        <td id=\"T_5067d_row3_col1\" class=\"data row3 col1\" >1263 days</td>\n",
       "                        <td id=\"T_5067d_row3_col2\" class=\"data row3 col2\" >3000</td>\n",
       "                        <td id=\"T_5067d_row3_col3\" class=\"data row3 col3\" >0.421288</td>\n",
       "            </tr>\n",
       "            <tr>\n",
       "                        <th id=\"T_5067d_level0_row4\" class=\"row_heading level0 row4\" >sri6</th>\n",
       "                        <td id=\"T_5067d_row4_col0\" class=\"data row4 col0\" >2018-03-27</td>\n",
       "                        <td id=\"T_5067d_row4_col1\" class=\"data row4 col1\" >1251 days</td>\n",
       "                        <td id=\"T_5067d_row4_col2\" class=\"data row4 col2\" >3000</td>\n",
       "                        <td id=\"T_5067d_row4_col3\" class=\"data row4 col3\" >0.417276</td>\n",
       "            </tr>\n",
       "            <tr>\n",
       "                        <th id=\"T_5067d_level0_row5\" class=\"row_heading level0 row5\" >sri39</th>\n",
       "                        <td id=\"T_5067d_row5_col0\" class=\"data row5 col0\" >2019-03-18</td>\n",
       "                        <td id=\"T_5067d_row5_col1\" class=\"data row5 col1\" >895 days</td>\n",
       "                        <td id=\"T_5067d_row5_col2\" class=\"data row5 col2\" >3000</td>\n",
       "                        <td id=\"T_5067d_row5_col3\" class=\"data row5 col3\" >0.298645</td>\n",
       "            </tr>\n",
       "            <tr>\n",
       "                        <th id=\"T_5067d_level0_row6\" class=\"row_heading level0 row6\" >sri40</th>\n",
       "                        <td id=\"T_5067d_row6_col0\" class=\"data row6 col0\" >2019-03-18</td>\n",
       "                        <td id=\"T_5067d_row6_col1\" class=\"data row6 col1\" >895 days</td>\n",
       "                        <td id=\"T_5067d_row6_col2\" class=\"data row6 col2\" >3000</td>\n",
       "                        <td id=\"T_5067d_row6_col3\" class=\"data row6 col3\" >0.298620</td>\n",
       "            </tr>\n",
       "            <tr>\n",
       "                        <th id=\"T_5067d_level0_row7\" class=\"row_heading level0 row7\" >sri33</th>\n",
       "                        <td id=\"T_5067d_row7_col0\" class=\"data row7 col0\" >2019-03-18</td>\n",
       "                        <td id=\"T_5067d_row7_col1\" class=\"data row7 col1\" >895 days</td>\n",
       "                        <td id=\"T_5067d_row7_col2\" class=\"data row7 col2\" >3000</td>\n",
       "                        <td id=\"T_5067d_row7_col3\" class=\"data row7 col3\" >0.298620</td>\n",
       "            </tr>\n",
       "            <tr>\n",
       "                        <th id=\"T_5067d_level0_row8\" class=\"row_heading level0 row8\" >sri17</th>\n",
       "                        <td id=\"T_5067d_row8_col0\" class=\"data row8 col0\" >2019-04-01</td>\n",
       "                        <td id=\"T_5067d_row8_col1\" class=\"data row8 col1\" >881 days</td>\n",
       "                        <td id=\"T_5067d_row8_col2\" class=\"data row8 col2\" >3000</td>\n",
       "                        <td id=\"T_5067d_row8_col3\" class=\"data row8 col3\" >0.293959</td>\n",
       "            </tr>\n",
       "    </tbody></table>"
      ],
      "text/plain": [
       "<pandas.io.formats.style.Styler at 0x7ffd78466df0>"
      ]
     },
     "metadata": {},
     "output_type": "display_data"
    }
   ],
   "source": [
    "main()"
   ]
  },
  {
   "cell_type": "code",
   "execution_count": null,
   "id": "b6e67dc5",
   "metadata": {
    "papermill": {
     "duration": 0.005428,
     "end_time": "2021-08-30T18:18:22.644345",
     "exception": false,
     "start_time": "2021-08-30T18:18:22.638917",
     "status": "completed"
    },
    "tags": []
   },
   "outputs": [],
   "source": []
  }
 ],
 "metadata": {
  "interpreter": {
   "hash": "31f2aee4e71d21fbe5cf8b01ff0e069b9275f58929596ceb00d14d90e3e16cd6"
  },
  "kernelspec": {
   "display_name": "Python 3",
   "language": "python",
   "name": "python3"
  },
  "language_info": {
   "codemirror_mode": {
    "name": "ipython",
    "version": 3
   },
   "file_extension": ".py",
   "mimetype": "text/x-python",
   "name": "python",
   "nbconvert_exporter": "python",
   "pygments_lexer": "ipython3",
   "version": "3.8.5"
  },
  "papermill": {
   "default_parameters": {},
   "duration": 1.857859,
   "end_time": "2021-08-30T18:18:22.964732",
   "environment_variables": {},
   "exception": null,
   "input_path": "notebooks/SVN Reports.ipynb",
   "output_path": "samples/svn/sri.ipynb",
   "parameters": {
    "site": "sri"
   },
   "start_time": "2021-08-30T18:18:21.106873",
   "version": "2.3.3"
  }
 },
 "nbformat": 4,
 "nbformat_minor": 5
}