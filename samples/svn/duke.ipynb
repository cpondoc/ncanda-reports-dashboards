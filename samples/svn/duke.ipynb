{
 "cells": [
  {
   "cell_type": "markdown",
   "id": "af49b620",
   "metadata": {
    "papermill": {
     "duration": 0.010252,
     "end_time": "2021-08-30T18:18:12.016586",
     "exception": false,
     "start_time": "2021-08-30T18:18:12.006334",
     "status": "completed"
    },
    "tags": []
   },
   "source": [
    "# SVN Reports Dashboard\n",
    "Reporting import/upload pipelines"
   ]
  },
  {
   "cell_type": "markdown",
   "id": "ed3a3a88",
   "metadata": {
    "papermill": {
     "duration": 0.004083,
     "end_time": "2021-08-30T18:18:12.025081",
     "exception": false,
     "start_time": "2021-08-30T18:18:12.020998",
     "status": "completed"
    },
    "tags": [
     "remove_cell"
    ]
   },
   "source": [
    "### Import Libraries\n",
    "Libraries necessary to parse through each dashboard"
   ]
  },
  {
   "cell_type": "code",
   "execution_count": 1,
   "id": "fa7622c4",
   "metadata": {
    "execution": {
     "iopub.execute_input": "2021-08-30T18:18:12.039830Z",
     "iopub.status.busy": "2021-08-30T18:18:12.039419Z",
     "iopub.status.idle": "2021-08-30T18:18:12.352832Z",
     "shell.execute_reply": "2021-08-30T18:18:12.353110Z"
    },
    "papermill": {
     "duration": 0.322898,
     "end_time": "2021-08-30T18:18:12.353357",
     "exception": false,
     "start_time": "2021-08-30T18:18:12.030459",
     "status": "completed"
    },
    "tags": [
     "remove_cell"
    ]
   },
   "outputs": [],
   "source": [
    "import datetime\n",
    "from IPython.display import display, Markdown, Latex\n",
    "import json\n",
    "import numpy as np\n",
    "import pandas as pd"
   ]
  },
  {
   "cell_type": "markdown",
   "id": "7fd60f95",
   "metadata": {
    "papermill": {
     "duration": 0.00395,
     "end_time": "2021-08-30T18:18:12.361923",
     "exception": false,
     "start_time": "2021-08-30T18:18:12.357973",
     "status": "completed"
    },
    "tags": [
     "remove_cell"
    ]
   },
   "source": [
    "### Parametrization\n",
    "Adding parameters for Papermill"
   ]
  },
  {
   "cell_type": "code",
   "execution_count": 2,
   "id": "fabb9076",
   "metadata": {
    "execution": {
     "iopub.execute_input": "2021-08-30T18:18:12.372052Z",
     "iopub.status.busy": "2021-08-30T18:18:12.371654Z",
     "iopub.status.idle": "2021-08-30T18:18:12.372960Z",
     "shell.execute_reply": "2021-08-30T18:18:12.373218Z"
    },
    "papermill": {
     "duration": 0.007462,
     "end_time": "2021-08-30T18:18:12.373327",
     "exception": false,
     "start_time": "2021-08-30T18:18:12.365865",
     "status": "completed"
    },
    "tags": [
     "parameters"
    ]
   },
   "outputs": [],
   "source": [
    "site: str"
   ]
  },
  {
   "cell_type": "code",
   "execution_count": 3,
   "id": "51f0a98e",
   "metadata": {
    "execution": {
     "iopub.execute_input": "2021-08-30T18:18:12.383497Z",
     "iopub.status.busy": "2021-08-30T18:18:12.383078Z",
     "iopub.status.idle": "2021-08-30T18:18:12.384168Z",
     "shell.execute_reply": "2021-08-30T18:18:12.384409Z"
    },
    "papermill": {
     "duration": 0.007039,
     "end_time": "2021-08-30T18:18:12.384515",
     "exception": false,
     "start_time": "2021-08-30T18:18:12.377476",
     "status": "completed"
    },
    "tags": [
     "injected-parameters"
    ]
   },
   "outputs": [],
   "source": [
    "# Parameters\n",
    "site = \"duke\"\n"
   ]
  },
  {
   "cell_type": "markdown",
   "id": "8e2e56a0",
   "metadata": {
    "papermill": {
     "duration": 0.004027,
     "end_time": "2021-08-30T18:18:12.392596",
     "exception": false,
     "start_time": "2021-08-30T18:18:12.388569",
     "status": "completed"
    },
    "tags": [
     "remove_cell"
    ]
   },
   "source": [
    "### Setting Column Names\n",
    "Use an existing JSON file"
   ]
  },
  {
   "cell_type": "code",
   "execution_count": 4,
   "id": "03dff847",
   "metadata": {
    "execution": {
     "iopub.execute_input": "2021-08-30T18:18:12.403127Z",
     "iopub.status.busy": "2021-08-30T18:18:12.402743Z",
     "iopub.status.idle": "2021-08-30T18:18:12.404274Z",
     "shell.execute_reply": "2021-08-30T18:18:12.404536Z"
    },
    "papermill": {
     "duration": 0.008048,
     "end_time": "2021-08-30T18:18:12.404650",
     "exception": false,
     "start_time": "2021-08-30T18:18:12.396602",
     "status": "completed"
    },
    "tags": [
     "remove_cell"
    ]
   },
   "outputs": [],
   "source": [
    "def get_special_columns(file_path):\n",
    "    f = open(file_path, \"r\")\n",
    "    data = json.load(f)\n",
    "    return data[0]\n",
    "\n",
    "new_column_names = get_special_columns(\"reference/svn_col_names.json\")"
   ]
  },
  {
   "cell_type": "markdown",
   "id": "475129a9",
   "metadata": {
    "papermill": {
     "duration": 0.004007,
     "end_time": "2021-08-30T18:18:12.412843",
     "exception": false,
     "start_time": "2021-08-30T18:18:12.408836",
     "status": "completed"
    },
    "tags": [
     "remove_cell"
    ]
   },
   "source": [
    "### Set up Table Styles\n",
    "Use `pandas.style` to set up some graphical styles for the main reports table."
   ]
  },
  {
   "cell_type": "code",
   "execution_count": 5,
   "id": "8221bb1d",
   "metadata": {
    "execution": {
     "iopub.execute_input": "2021-08-30T18:18:12.424209Z",
     "iopub.status.busy": "2021-08-30T18:18:12.423837Z",
     "iopub.status.idle": "2021-08-30T18:18:12.425008Z",
     "shell.execute_reply": "2021-08-30T18:18:12.425395Z"
    },
    "papermill": {
     "duration": 0.008627,
     "end_time": "2021-08-30T18:18:12.425506",
     "exception": false,
     "start_time": "2021-08-30T18:18:12.416879",
     "status": "completed"
    },
    "tags": [
     "remove_cell"
    ]
   },
   "outputs": [],
   "source": [
    "table_styles = [{\n",
    "    'selector': 'td',\n",
    "    'props': [('background-color', '#FFFFFF'), ('color', '#000000')]\n",
    "}, \n",
    "{\n",
    "    'selector': 'th',\n",
    "    'props': [('background-color', '#000000'), ('color', '#FFFFFF')]\n",
    "}]\n",
    "\n",
    "def style_row(x):\n",
    "    # For the sla_percentage: row == 3\n",
    "    style = [None] * x.size\n",
    "    sample_series = pd.DataFrame(data=x).iloc[3]\n",
    "    for index, value in sample_series.items():\n",
    "        if (value > 1):\n",
    "            style[3] = \"color: red !important;\"\n",
    "            if (value > 10):\n",
    "                style[3] = style[3] + \" font-weight: bold;\"\n",
    "    return style"
   ]
  },
  {
   "cell_type": "markdown",
   "id": "402b7587",
   "metadata": {
    "papermill": {
     "duration": 0.004054,
     "end_time": "2021-08-30T18:18:12.433654",
     "exception": false,
     "start_time": "2021-08-30T18:18:12.429600",
     "status": "completed"
    },
    "tags": [
     "remove_cell"
    ]
   },
   "source": [
    "### Define Functions\n",
    "Define functions to parse through each of the sites and print them to the screen"
   ]
  },
  {
   "cell_type": "code",
   "execution_count": 6,
   "id": "be3e59ed",
   "metadata": {
    "execution": {
     "iopub.execute_input": "2021-08-30T18:18:12.446689Z",
     "iopub.status.busy": "2021-08-30T18:18:12.446302Z",
     "iopub.status.idle": "2021-08-30T18:18:12.447527Z",
     "shell.execute_reply": "2021-08-30T18:18:12.447835Z"
    },
    "papermill": {
     "duration": 0.010284,
     "end_time": "2021-08-30T18:18:12.447945",
     "exception": false,
     "start_time": "2021-08-30T18:18:12.437661",
     "status": "completed"
    },
    "tags": [
     "remove_cell"
    ]
   },
   "outputs": [],
   "source": [
    "# In future iterations, display path is:  '../../../../../log/status_reports/'\n",
    "def load_dataframe_and_display(file_name=None):\n",
    "    # Header and load in dataframe\n",
    "    display(Markdown('## SLA ' + file_name + ' Dashboard'))\n",
    "    df = pd.read_csv('status_reports/' + file_name.lower() + '.csv', parse_dates=['date_updated'])\n",
    "    durations = df['sla'].unique().tolist()\n",
    "    durations = np.sort(durations)\n",
    "    \n",
    "    # Categorize each report by SLA (3, 30, 3000 -> Dead)\n",
    "    for duration in durations:\n",
    "        # Find specific data subset and \n",
    "        duration_df = df.loc[df['sla'] == duration] # Find specific dataframe\n",
    "        duration_df = duration_df.rename(columns={'laptop':'Laptop'}, errors=\"raise\")\n",
    "        \n",
    "        # Create header\n",
    "        duration_str = str(duration) + '-Day'\n",
    "        if (duration == 3000):\n",
    "            duration_str = 'Dead'\n",
    "        display(Markdown(duration_str + ' SLA Laptop Report'))\n",
    "        \n",
    "        # Set index and update date format (latter is hacky -> can fix)\n",
    "        duration_df = duration_df.set_index(['Laptop'])\n",
    "        if (duration == 3):\n",
    "            duration_df['date_updated'] = duration_df['date_updated'].dt.strftime('%Y-%m-%d %H:%M')\n",
    "            duration_df['time_diff'] = duration_df['time_diff'].apply(lambda x: str(x)[:str(x).find(\".\") - 3])\n",
    "        else:\n",
    "            duration_df['date_updated'] = duration_df['date_updated'].dt.strftime('%Y-%m-%d')\n",
    "            duration_df['time_diff'] = duration_df['time_diff'].apply(lambda x: str(x)[:str(x).find(\"days\") + len(\"days\")])\n",
    "            \n",
    "        # Rename columns, style, and display\n",
    "        duration_df = duration_df.rename(columns=new_column_names)\n",
    "        se = duration_df.style.set_table_styles(table_styles).apply(lambda x: style_row(x), axis=1)\n",
    "        display(se)\n",
    "        \n",
    "def main():\n",
    "    load_dataframe_and_display(site)"
   ]
  },
  {
   "cell_type": "markdown",
   "id": "c1c9d672",
   "metadata": {
    "papermill": {
     "duration": 0.004191,
     "end_time": "2021-08-30T18:18:12.456342",
     "exception": false,
     "start_time": "2021-08-30T18:18:12.452151",
     "status": "completed"
    },
    "tags": [
     "remove_cell"
    ]
   },
   "source": [
    "### Run all\n",
    "Run functions and produce dashboards for each site"
   ]
  },
  {
   "cell_type": "code",
   "execution_count": 7,
   "id": "daecb14b",
   "metadata": {
    "execution": {
     "iopub.execute_input": "2021-08-30T18:18:12.469532Z",
     "iopub.status.busy": "2021-08-30T18:18:12.469098Z",
     "iopub.status.idle": "2021-08-30T18:18:12.751854Z",
     "shell.execute_reply": "2021-08-30T18:18:12.752110Z"
    },
    "papermill": {
     "duration": 0.29164,
     "end_time": "2021-08-30T18:18:12.752232",
     "exception": false,
     "start_time": "2021-08-30T18:18:12.460592",
     "status": "completed"
    },
    "tags": []
   },
   "outputs": [
    {
     "data": {
      "text/markdown": [
       "## SLA duke Dashboard"
      ],
      "text/plain": [
       "<IPython.core.display.Markdown object>"
      ]
     },
     "metadata": {},
     "output_type": "display_data"
    },
    {
     "data": {
      "text/markdown": [
       "30-Day SLA Laptop Report"
      ],
      "text/plain": [
       "<IPython.core.display.Markdown object>"
      ]
     },
     "metadata": {},
     "output_type": "display_data"
    },
    {
     "data": {
      "text/html": [
       "<style  type=\"text/css\" >\n",
       "    #T_64d76_ td {\n",
       "          background-color: #FFFFFF;\n",
       "          color: #000000;\n",
       "    }    #T_64d76_ th {\n",
       "          background-color: #000000;\n",
       "          color: #FFFFFF;\n",
       "    }#T_64d76_row0_col3,#T_64d76_row1_col3,#T_64d76_row2_col3,#T_64d76_row3_col3,#T_64d76_row4_col3,#T_64d76_row5_col3,#T_64d76_row6_col3,#T_64d76_row7_col3{\n",
       "            color:  red !important;\n",
       "             font-weight:  bold;\n",
       "        }</style><table id=\"T_64d76_\" ><thead>    <tr>        <th class=\"blank level0\" ></th>        <th class=\"col_heading level0 col0\" >Date Updated</th>        <th class=\"col_heading level0 col1\" >Time Difference</th>        <th class=\"col_heading level0 col2\" >SLA</th>        <th class=\"col_heading level0 col3\" >SLA %</th>    </tr>    <tr>        <th class=\"index_name level0\" >Laptop</th>        <th class=\"blank\" ></th>        <th class=\"blank\" ></th>        <th class=\"blank\" ></th>        <th class=\"blank\" ></th>    </tr></thead><tbody>\n",
       "                <tr>\n",
       "                        <th id=\"T_64d76_level0_row0\" class=\"row_heading level0 row0\" >duke30</th>\n",
       "                        <td id=\"T_64d76_row0_col0\" class=\"data row0 col0\" >2018-04-10</td>\n",
       "                        <td id=\"T_64d76_row0_col1\" class=\"data row0 col1\" >1238 days</td>\n",
       "                        <td id=\"T_64d76_row0_col2\" class=\"data row0 col2\" >30</td>\n",
       "                        <td id=\"T_64d76_row0_col3\" class=\"data row0 col3\" >41.270811</td>\n",
       "            </tr>\n",
       "            <tr>\n",
       "                        <th id=\"T_64d76_level0_row1\" class=\"row_heading level0 row1\" >duke19</th>\n",
       "                        <td id=\"T_64d76_row1_col0\" class=\"data row1 col0\" >2018-04-17</td>\n",
       "                        <td id=\"T_64d76_row1_col1\" class=\"data row1 col1\" >1230 days</td>\n",
       "                        <td id=\"T_64d76_row1_col2\" class=\"data row1 col2\" >30</td>\n",
       "                        <td id=\"T_64d76_row1_col3\" class=\"data row1 col3\" >41.033103</td>\n",
       "            </tr>\n",
       "            <tr>\n",
       "                        <th id=\"T_64d76_level0_row2\" class=\"row_heading level0 row2\" >duke18</th>\n",
       "                        <td id=\"T_64d76_row2_col0\" class=\"data row2 col0\" >2018-04-28</td>\n",
       "                        <td id=\"T_64d76_row2_col1\" class=\"data row2 col1\" >1219 days</td>\n",
       "                        <td id=\"T_64d76_row2_col2\" class=\"data row2 col2\" >30</td>\n",
       "                        <td id=\"T_64d76_row2_col3\" class=\"data row2 col3\" >40.663691</td>\n",
       "            </tr>\n",
       "            <tr>\n",
       "                        <th id=\"T_64d76_level0_row3\" class=\"row_heading level0 row3\" >duke7</th>\n",
       "                        <td id=\"T_64d76_row3_col0\" class=\"data row3 col0\" >2019-03-18</td>\n",
       "                        <td id=\"T_64d76_row3_col1\" class=\"data row3 col1\" >896 days</td>\n",
       "                        <td id=\"T_64d76_row3_col2\" class=\"data row3 col2\" >30</td>\n",
       "                        <td id=\"T_64d76_row3_col3\" class=\"data row3 col3\" >29.868915</td>\n",
       "            </tr>\n",
       "            <tr>\n",
       "                        <th id=\"T_64d76_level0_row4\" class=\"row_heading level0 row4\" >duke31</th>\n",
       "                        <td id=\"T_64d76_row4_col0\" class=\"data row4 col0\" >2019-03-18</td>\n",
       "                        <td id=\"T_64d76_row4_col1\" class=\"data row4 col1\" >895 days</td>\n",
       "                        <td id=\"T_64d76_row4_col2\" class=\"data row4 col2\" >30</td>\n",
       "                        <td id=\"T_64d76_row4_col3\" class=\"data row4 col3\" >29.865957</td>\n",
       "            </tr>\n",
       "            <tr>\n",
       "                        <th id=\"T_64d76_level0_row5\" class=\"row_heading level0 row5\" >duke36</th>\n",
       "                        <td id=\"T_64d76_row5_col0\" class=\"data row5 col0\" >2020-03-20</td>\n",
       "                        <td id=\"T_64d76_row5_col1\" class=\"data row5 col1\" >528 days</td>\n",
       "                        <td id=\"T_64d76_row5_col2\" class=\"data row5 col2\" >30</td>\n",
       "                        <td id=\"T_64d76_row5_col3\" class=\"data row5 col3\" >17.603372</td>\n",
       "            </tr>\n",
       "            <tr>\n",
       "                        <th id=\"T_64d76_level0_row6\" class=\"row_heading level0 row6\" >duke50</th>\n",
       "                        <td id=\"T_64d76_row6_col0\" class=\"data row6 col0\" >2020-05-12</td>\n",
       "                        <td id=\"T_64d76_row6_col1\" class=\"data row6 col1\" >474 days</td>\n",
       "                        <td id=\"T_64d76_row6_col2\" class=\"data row6 col2\" >30</td>\n",
       "                        <td id=\"T_64d76_row6_col3\" class=\"data row6 col3\" >15.830962</td>\n",
       "            </tr>\n",
       "            <tr>\n",
       "                        <th id=\"T_64d76_level0_row7\" class=\"row_heading level0 row7\" >duke51</th>\n",
       "                        <td id=\"T_64d76_row7_col0\" class=\"data row7 col0\" >2020-05-13</td>\n",
       "                        <td id=\"T_64d76_row7_col1\" class=\"data row7 col1\" >474 days</td>\n",
       "                        <td id=\"T_64d76_row7_col2\" class=\"data row7 col2\" >30</td>\n",
       "                        <td id=\"T_64d76_row7_col3\" class=\"data row7 col3\" >15.802241</td>\n",
       "            </tr>\n",
       "    </tbody></table>"
      ],
      "text/plain": [
       "<pandas.io.formats.style.Styler at 0x7f9c5a2d4610>"
      ]
     },
     "metadata": {},
     "output_type": "display_data"
    },
    {
     "data": {
      "text/markdown": [
       "Dead SLA Laptop Report"
      ],
      "text/plain": [
       "<IPython.core.display.Markdown object>"
      ]
     },
     "metadata": {},
     "output_type": "display_data"
    },
    {
     "data": {
      "text/html": [
       "<style  type=\"text/css\" >\n",
       "    #T_eef31_ td {\n",
       "          background-color: #FFFFFF;\n",
       "          color: #000000;\n",
       "    }    #T_eef31_ th {\n",
       "          background-color: #000000;\n",
       "          color: #FFFFFF;\n",
       "    }</style><table id=\"T_eef31_\" ><thead>    <tr>        <th class=\"blank level0\" ></th>        <th class=\"col_heading level0 col0\" >Date Updated</th>        <th class=\"col_heading level0 col1\" >Time Difference</th>        <th class=\"col_heading level0 col2\" >SLA</th>        <th class=\"col_heading level0 col3\" >SLA %</th>    </tr>    <tr>        <th class=\"index_name level0\" >Laptop</th>        <th class=\"blank\" ></th>        <th class=\"blank\" ></th>        <th class=\"blank\" ></th>        <th class=\"blank\" ></th>    </tr></thead><tbody>\n",
       "                <tr>\n",
       "                        <th id=\"T_eef31_level0_row0\" class=\"row_heading level0 row0\" >duke-merge</th>\n",
       "                        <td id=\"T_eef31_row0_col0\" class=\"data row0 col0\" >2015-03-31</td>\n",
       "                        <td id=\"T_eef31_row0_col1\" class=\"data row0 col1\" >2343 days</td>\n",
       "                        <td id=\"T_eef31_row0_col2\" class=\"data row0 col2\" >3000</td>\n",
       "                        <td id=\"T_eef31_row0_col3\" class=\"data row0 col3\" >0.781261</td>\n",
       "            </tr>\n",
       "            <tr>\n",
       "                        <th id=\"T_eef31_level0_row1\" class=\"row_heading level0 row1\" >duke8</th>\n",
       "                        <td id=\"T_eef31_row1_col0\" class=\"data row1 col0\" >2018-04-10</td>\n",
       "                        <td id=\"T_eef31_row1_col1\" class=\"data row1 col1\" >1238 days</td>\n",
       "                        <td id=\"T_eef31_row1_col2\" class=\"data row1 col2\" >3000</td>\n",
       "                        <td id=\"T_eef31_row1_col3\" class=\"data row1 col3\" >0.412691</td>\n",
       "            </tr>\n",
       "    </tbody></table>"
      ],
      "text/plain": [
       "<pandas.io.formats.style.Styler at 0x7f9c5a47fd60>"
      ]
     },
     "metadata": {},
     "output_type": "display_data"
    }
   ],
   "source": [
    "main()"
   ]
  },
  {
   "cell_type": "code",
   "execution_count": null,
   "id": "2c01da97",
   "metadata": {
    "papermill": {
     "duration": 0.005241,
     "end_time": "2021-08-30T18:18:12.763130",
     "exception": false,
     "start_time": "2021-08-30T18:18:12.757889",
     "status": "completed"
    },
    "tags": []
   },
   "outputs": [],
   "source": []
  }
 ],
 "metadata": {
  "interpreter": {
   "hash": "31f2aee4e71d21fbe5cf8b01ff0e069b9275f58929596ceb00d14d90e3e16cd6"
  },
  "kernelspec": {
   "display_name": "Python 3",
   "language": "python",
   "name": "python3"
  },
  "language_info": {
   "codemirror_mode": {
    "name": "ipython",
    "version": 3
   },
   "file_extension": ".py",
   "mimetype": "text/x-python",
   "name": "python",
   "nbconvert_exporter": "python",
   "pygments_lexer": "ipython3",
   "version": "3.8.5"
  },
  "papermill": {
   "default_parameters": {},
   "duration": 1.934284,
   "end_time": "2021-08-30T18:18:13.086894",
   "environment_variables": {},
   "exception": null,
   "input_path": "notebooks/SVN Reports.ipynb",
   "output_path": "samples/svn/duke.ipynb",
   "parameters": {
    "site": "duke"
   },
   "start_time": "2021-08-30T18:18:11.152610",
   "version": "2.3.3"
  }
 },
 "nbformat": 4,
 "nbformat_minor": 5
}