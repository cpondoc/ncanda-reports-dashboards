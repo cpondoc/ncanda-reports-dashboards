{
 "cells": [
  {
   "cell_type": "markdown",
   "id": "9221a581",
   "metadata": {
    "papermill": {
     "duration": 0.015871,
     "end_time": "2021-08-30T18:18:29.085154",
     "exception": false,
     "start_time": "2021-08-30T18:18:29.069283",
     "status": "completed"
    },
    "tags": []
   },
   "source": [
    "# SVN Reports Dashboard\n",
    "Reporting import/upload pipelines"
   ]
  },
  {
   "cell_type": "markdown",
   "id": "0ceb890b",
   "metadata": {
    "papermill": {
     "duration": 0.00434,
     "end_time": "2021-08-30T18:18:29.102134",
     "exception": false,
     "start_time": "2021-08-30T18:18:29.097794",
     "status": "completed"
    },
    "tags": [
     "remove_cell"
    ]
   },
   "source": [
    "### Import Libraries\n",
    "Libraries necessary to parse through each dashboard"
   ]
  },
  {
   "cell_type": "code",
   "execution_count": 1,
   "id": "465e4563",
   "metadata": {
    "execution": {
     "iopub.execute_input": "2021-08-30T18:18:29.119696Z",
     "iopub.status.busy": "2021-08-30T18:18:29.118893Z",
     "iopub.status.idle": "2021-08-30T18:18:29.418201Z",
     "shell.execute_reply": "2021-08-30T18:18:29.418475Z"
    },
    "papermill": {
     "duration": 0.309946,
     "end_time": "2021-08-30T18:18:29.418711",
     "exception": false,
     "start_time": "2021-08-30T18:18:29.108765",
     "status": "completed"
    },
    "tags": [
     "remove_cell"
    ]
   },
   "outputs": [],
   "source": [
    "import datetime\n",
    "from IPython.display import display, Markdown, Latex\n",
    "import json\n",
    "import numpy as np\n",
    "import pandas as pd"
   ]
  },
  {
   "cell_type": "markdown",
   "id": "80e79d97",
   "metadata": {
    "papermill": {
     "duration": 0.004185,
     "end_time": "2021-08-30T18:18:29.427630",
     "exception": false,
     "start_time": "2021-08-30T18:18:29.423445",
     "status": "completed"
    },
    "tags": [
     "remove_cell"
    ]
   },
   "source": [
    "### Parametrization\n",
    "Adding parameters for Papermill"
   ]
  },
  {
   "cell_type": "code",
   "execution_count": 2,
   "id": "6f5024a1",
   "metadata": {
    "execution": {
     "iopub.execute_input": "2021-08-30T18:18:29.439280Z",
     "iopub.status.busy": "2021-08-30T18:18:29.438741Z",
     "iopub.status.idle": "2021-08-30T18:18:29.439963Z",
     "shell.execute_reply": "2021-08-30T18:18:29.440294Z"
    },
    "papermill": {
     "duration": 0.008412,
     "end_time": "2021-08-30T18:18:29.440432",
     "exception": false,
     "start_time": "2021-08-30T18:18:29.432020",
     "status": "completed"
    },
    "tags": [
     "parameters"
    ]
   },
   "outputs": [],
   "source": [
    "site: str"
   ]
  },
  {
   "cell_type": "code",
   "execution_count": 3,
   "id": "11c6fe02",
   "metadata": {
    "execution": {
     "iopub.execute_input": "2021-08-30T18:18:29.451800Z",
     "iopub.status.busy": "2021-08-30T18:18:29.451398Z",
     "iopub.status.idle": "2021-08-30T18:18:29.452559Z",
     "shell.execute_reply": "2021-08-30T18:18:29.452881Z"
    },
    "papermill": {
     "duration": 0.008073,
     "end_time": "2021-08-30T18:18:29.452998",
     "exception": false,
     "start_time": "2021-08-30T18:18:29.444925",
     "status": "completed"
    },
    "tags": [
     "injected-parameters"
    ]
   },
   "outputs": [],
   "source": [
    "# Parameters\n",
    "site = \"upmc\"\n"
   ]
  },
  {
   "cell_type": "markdown",
   "id": "eda4c2f5",
   "metadata": {
    "papermill": {
     "duration": 0.004353,
     "end_time": "2021-08-30T18:18:29.461744",
     "exception": false,
     "start_time": "2021-08-30T18:18:29.457391",
     "status": "completed"
    },
    "tags": [
     "remove_cell"
    ]
   },
   "source": [
    "### Setting Column Names\n",
    "Use an existing JSON file"
   ]
  },
  {
   "cell_type": "code",
   "execution_count": 4,
   "id": "2c727ec1",
   "metadata": {
    "execution": {
     "iopub.execute_input": "2021-08-30T18:18:29.473301Z",
     "iopub.status.busy": "2021-08-30T18:18:29.472887Z",
     "iopub.status.idle": "2021-08-30T18:18:29.474191Z",
     "shell.execute_reply": "2021-08-30T18:18:29.474441Z"
    },
    "papermill": {
     "duration": 0.008595,
     "end_time": "2021-08-30T18:18:29.474560",
     "exception": false,
     "start_time": "2021-08-30T18:18:29.465965",
     "status": "completed"
    },
    "tags": [
     "remove_cell"
    ]
   },
   "outputs": [],
   "source": [
    "def get_special_columns(file_path):\n",
    "    f = open(file_path, \"r\")\n",
    "    data = json.load(f)\n",
    "    return data[0]\n",
    "\n",
    "new_column_names = get_special_columns(\"reference/svn_col_names.json\")"
   ]
  },
  {
   "cell_type": "markdown",
   "id": "a8e41189",
   "metadata": {
    "papermill": {
     "duration": 0.004237,
     "end_time": "2021-08-30T18:18:29.483221",
     "exception": false,
     "start_time": "2021-08-30T18:18:29.478984",
     "status": "completed"
    },
    "tags": [
     "remove_cell"
    ]
   },
   "source": [
    "### Set up Table Styles\n",
    "Use `pandas.style` to set up some graphical styles for the main reports table."
   ]
  },
  {
   "cell_type": "code",
   "execution_count": 5,
   "id": "05885602",
   "metadata": {
    "execution": {
     "iopub.execute_input": "2021-08-30T18:18:29.495988Z",
     "iopub.status.busy": "2021-08-30T18:18:29.495510Z",
     "iopub.status.idle": "2021-08-30T18:18:29.496874Z",
     "shell.execute_reply": "2021-08-30T18:18:29.497135Z"
    },
    "papermill": {
     "duration": 0.009794,
     "end_time": "2021-08-30T18:18:29.497255",
     "exception": false,
     "start_time": "2021-08-30T18:18:29.487461",
     "status": "completed"
    },
    "tags": [
     "remove_cell"
    ]
   },
   "outputs": [],
   "source": [
    "table_styles = [{\n",
    "    'selector': 'td',\n",
    "    'props': [('background-color', '#FFFFFF'), ('color', '#000000')]\n",
    "}, \n",
    "{\n",
    "    'selector': 'th',\n",
    "    'props': [('background-color', '#000000'), ('color', '#FFFFFF')]\n",
    "}]\n",
    "\n",
    "def style_row(x):\n",
    "    # For the sla_percentage: row == 3\n",
    "    style = [None] * x.size\n",
    "    sample_series = pd.DataFrame(data=x).iloc[3]\n",
    "    for index, value in sample_series.items():\n",
    "        if (value > 1):\n",
    "            style[3] = \"color: red !important;\"\n",
    "            if (value > 10):\n",
    "                style[3] = style[3] + \" font-weight: bold;\"\n",
    "    return style"
   ]
  },
  {
   "cell_type": "markdown",
   "id": "c5f3b7da",
   "metadata": {
    "papermill": {
     "duration": 0.004531,
     "end_time": "2021-08-30T18:18:29.506407",
     "exception": false,
     "start_time": "2021-08-30T18:18:29.501876",
     "status": "completed"
    },
    "tags": [
     "remove_cell"
    ]
   },
   "source": [
    "### Define Functions\n",
    "Define functions to parse through each of the sites and print them to the screen"
   ]
  },
  {
   "cell_type": "code",
   "execution_count": 6,
   "id": "ac44a12b",
   "metadata": {
    "execution": {
     "iopub.execute_input": "2021-08-30T18:18:29.520797Z",
     "iopub.status.busy": "2021-08-30T18:18:29.520254Z",
     "iopub.status.idle": "2021-08-30T18:18:29.521917Z",
     "shell.execute_reply": "2021-08-30T18:18:29.522249Z"
    },
    "papermill": {
     "duration": 0.011652,
     "end_time": "2021-08-30T18:18:29.522375",
     "exception": false,
     "start_time": "2021-08-30T18:18:29.510723",
     "status": "completed"
    },
    "tags": [
     "remove_cell"
    ]
   },
   "outputs": [],
   "source": [
    "# In future iterations, display path is:  '../../../../../log/status_reports/'\n",
    "def load_dataframe_and_display(file_name=None):\n",
    "    # Header and load in dataframe\n",
    "    display(Markdown('## SLA ' + file_name + ' Dashboard'))\n",
    "    df = pd.read_csv('status_reports/' + file_name.lower() + '.csv', parse_dates=['date_updated'])\n",
    "    durations = df['sla'].unique().tolist()\n",
    "    durations = np.sort(durations)\n",
    "    \n",
    "    # Categorize each report by SLA (3, 30, 3000 -> Dead)\n",
    "    for duration in durations:\n",
    "        # Find specific data subset and \n",
    "        duration_df = df.loc[df['sla'] == duration] # Find specific dataframe\n",
    "        duration_df = duration_df.rename(columns={'laptop':'Laptop'}, errors=\"raise\")\n",
    "        \n",
    "        # Create header\n",
    "        duration_str = str(duration) + '-Day'\n",
    "        if (duration == 3000):\n",
    "            duration_str = 'Dead'\n",
    "        display(Markdown(duration_str + ' SLA Laptop Report'))\n",
    "        \n",
    "        # Set index and update date format (latter is hacky -> can fix)\n",
    "        duration_df = duration_df.set_index(['Laptop'])\n",
    "        if (duration == 3):\n",
    "            duration_df['date_updated'] = duration_df['date_updated'].dt.strftime('%Y-%m-%d %H:%M')\n",
    "            duration_df['time_diff'] = duration_df['time_diff'].apply(lambda x: str(x)[:str(x).find(\".\") - 3])\n",
    "        else:\n",
    "            duration_df['date_updated'] = duration_df['date_updated'].dt.strftime('%Y-%m-%d')\n",
    "            duration_df['time_diff'] = duration_df['time_diff'].apply(lambda x: str(x)[:str(x).find(\"days\") + len(\"days\")])\n",
    "            \n",
    "        # Rename columns, style, and display\n",
    "        duration_df = duration_df.rename(columns=new_column_names)\n",
    "        se = duration_df.style.set_table_styles(table_styles).apply(lambda x: style_row(x), axis=1)\n",
    "        display(se)\n",
    "        \n",
    "def main():\n",
    "    load_dataframe_and_display(site)"
   ]
  },
  {
   "cell_type": "markdown",
   "id": "47143e52",
   "metadata": {
    "papermill": {
     "duration": 0.00434,
     "end_time": "2021-08-30T18:18:29.531397",
     "exception": false,
     "start_time": "2021-08-30T18:18:29.527057",
     "status": "completed"
    },
    "tags": [
     "remove_cell"
    ]
   },
   "source": [
    "### Run all\n",
    "Run functions and produce dashboards for each site"
   ]
  },
  {
   "cell_type": "code",
   "execution_count": 7,
   "id": "9fee48f0",
   "metadata": {
    "execution": {
     "iopub.execute_input": "2021-08-30T18:18:29.545575Z",
     "iopub.status.busy": "2021-08-30T18:18:29.545133Z",
     "iopub.status.idle": "2021-08-30T18:18:29.813775Z",
     "shell.execute_reply": "2021-08-30T18:18:29.814106Z"
    },
    "papermill": {
     "duration": 0.278485,
     "end_time": "2021-08-30T18:18:29.814233",
     "exception": false,
     "start_time": "2021-08-30T18:18:29.535748",
     "status": "completed"
    },
    "tags": []
   },
   "outputs": [
    {
     "data": {
      "text/markdown": [
       "## SLA upmc Dashboard"
      ],
      "text/plain": [
       "<IPython.core.display.Markdown object>"
      ]
     },
     "metadata": {},
     "output_type": "display_data"
    },
    {
     "data": {
      "text/markdown": [
       "30-Day SLA Laptop Report"
      ],
      "text/plain": [
       "<IPython.core.display.Markdown object>"
      ]
     },
     "metadata": {},
     "output_type": "display_data"
    },
    {
     "data": {
      "text/html": [
       "<style  type=\"text/css\" >\n",
       "    #T_e50c8_ td {\n",
       "          background-color: #FFFFFF;\n",
       "          color: #000000;\n",
       "    }    #T_e50c8_ th {\n",
       "          background-color: #000000;\n",
       "          color: #FFFFFF;\n",
       "    }#T_e50c8_row0_col3,#T_e50c8_row1_col3,#T_e50c8_row2_col3{\n",
       "            color:  red !important;\n",
       "             font-weight:  bold;\n",
       "        }</style><table id=\"T_e50c8_\" ><thead>    <tr>        <th class=\"blank level0\" ></th>        <th class=\"col_heading level0 col0\" >Date Updated</th>        <th class=\"col_heading level0 col1\" >Time Difference</th>        <th class=\"col_heading level0 col2\" >SLA</th>        <th class=\"col_heading level0 col3\" >SLA %</th>    </tr>    <tr>        <th class=\"index_name level0\" >Laptop</th>        <th class=\"blank\" ></th>        <th class=\"blank\" ></th>        <th class=\"blank\" ></th>        <th class=\"blank\" ></th>    </tr></thead><tbody>\n",
       "                <tr>\n",
       "                        <th id=\"T_e50c8_level0_row0\" class=\"row_heading level0 row0\" >upmc51</th>\n",
       "                        <td id=\"T_e50c8_row0_col0\" class=\"data row0 col0\" >2019-04-03</td>\n",
       "                        <td id=\"T_e50c8_row0_col1\" class=\"data row0 col1\" >879 days</td>\n",
       "                        <td id=\"T_e50c8_row0_col2\" class=\"data row0 col2\" >30</td>\n",
       "                        <td id=\"T_e50c8_row0_col3\" class=\"data row0 col3\" >29.331486</td>\n",
       "            </tr>\n",
       "            <tr>\n",
       "                        <th id=\"T_e50c8_level0_row1\" class=\"row_heading level0 row1\" >upmc26</th>\n",
       "                        <td id=\"T_e50c8_row1_col0\" class=\"data row1 col0\" >2020-03-03</td>\n",
       "                        <td id=\"T_e50c8_row1_col1\" class=\"data row1 col1\" >545 days</td>\n",
       "                        <td id=\"T_e50c8_row1_col2\" class=\"data row1 col2\" >30</td>\n",
       "                        <td id=\"T_e50c8_row1_col3\" class=\"data row1 col3\" >18.168311</td>\n",
       "            </tr>\n",
       "            <tr>\n",
       "                        <th id=\"T_e50c8_level0_row2\" class=\"row_heading level0 row2\" >upmc25</th>\n",
       "                        <td id=\"T_e50c8_row2_col0\" class=\"data row2 col0\" >2020-03-12</td>\n",
       "                        <td id=\"T_e50c8_row2_col1\" class=\"data row2 col1\" >536 days</td>\n",
       "                        <td id=\"T_e50c8_row2_col2\" class=\"data row2 col2\" >30</td>\n",
       "                        <td id=\"T_e50c8_row2_col3\" class=\"data row2 col3\" >17.869337</td>\n",
       "            </tr>\n",
       "            <tr>\n",
       "                        <th id=\"T_e50c8_level0_row3\" class=\"row_heading level0 row3\" >upmc50</th>\n",
       "                        <td id=\"T_e50c8_row3_col0\" class=\"data row3 col0\" >2021-08-26</td>\n",
       "                        <td id=\"T_e50c8_row3_col1\" class=\"data row3 col1\" >4 days</td>\n",
       "                        <td id=\"T_e50c8_row3_col2\" class=\"data row3 col2\" >30</td>\n",
       "                        <td id=\"T_e50c8_row3_col3\" class=\"data row3 col3\" >0.138248</td>\n",
       "            </tr>\n",
       "    </tbody></table>"
      ],
      "text/plain": [
       "<pandas.io.formats.style.Styler at 0x7f81082c6790>"
      ]
     },
     "metadata": {},
     "output_type": "display_data"
    },
    {
     "data": {
      "text/markdown": [
       "Dead SLA Laptop Report"
      ],
      "text/plain": [
       "<IPython.core.display.Markdown object>"
      ]
     },
     "metadata": {},
     "output_type": "display_data"
    },
    {
     "data": {
      "text/html": [
       "<style  type=\"text/css\" >\n",
       "    #T_e2d08_ td {\n",
       "          background-color: #FFFFFF;\n",
       "          color: #000000;\n",
       "    }    #T_e2d08_ th {\n",
       "          background-color: #000000;\n",
       "          color: #FFFFFF;\n",
       "    }</style><table id=\"T_e2d08_\" ><thead>    <tr>        <th class=\"blank level0\" ></th>        <th class=\"col_heading level0 col0\" >Date Updated</th>        <th class=\"col_heading level0 col1\" >Time Difference</th>        <th class=\"col_heading level0 col2\" >SLA</th>        <th class=\"col_heading level0 col3\" >SLA %</th>    </tr>    <tr>        <th class=\"index_name level0\" >Laptop</th>        <th class=\"blank\" ></th>        <th class=\"blank\" ></th>        <th class=\"blank\" ></th>        <th class=\"blank\" ></th>    </tr></thead><tbody>\n",
       "                <tr>\n",
       "                        <th id=\"T_e2d08_level0_row0\" class=\"row_heading level0 row0\" >upmc-merge</th>\n",
       "                        <td id=\"T_e2d08_row0_col0\" class=\"data row0 col0\" >2014-07-24</td>\n",
       "                        <td id=\"T_e2d08_row0_col1\" class=\"data row0 col1\" >2594 days</td>\n",
       "                        <td id=\"T_e2d08_row0_col2\" class=\"data row0 col2\" >3000</td>\n",
       "                        <td id=\"T_e2d08_row0_col3\" class=\"data row0 col3\" >0.864668</td>\n",
       "            </tr>\n",
       "            <tr>\n",
       "                        <th id=\"T_e2d08_level0_row1\" class=\"row_heading level0 row1\" >upmc3</th>\n",
       "                        <td id=\"T_e2d08_row1_col0\" class=\"data row1 col0\" >2018-03-05</td>\n",
       "                        <td id=\"T_e2d08_row1_col1\" class=\"data row1 col1\" >1274 days</td>\n",
       "                        <td id=\"T_e2d08_row1_col2\" class=\"data row1 col2\" >3000</td>\n",
       "                        <td id=\"T_e2d08_row1_col3\" class=\"data row1 col3\" >0.424904</td>\n",
       "            </tr>\n",
       "            <tr>\n",
       "                        <th id=\"T_e2d08_level0_row2\" class=\"row_heading level0 row2\" >upmc4</th>\n",
       "                        <td id=\"T_e2d08_row2_col0\" class=\"data row2 col0\" >2018-03-06</td>\n",
       "                        <td id=\"T_e2d08_row2_col1\" class=\"data row2 col1\" >1272 days</td>\n",
       "                        <td id=\"T_e2d08_row2_col2\" class=\"data row2 col2\" >3000</td>\n",
       "                        <td id=\"T_e2d08_row2_col3\" class=\"data row2 col3\" >0.424314</td>\n",
       "            </tr>\n",
       "            <tr>\n",
       "                        <th id=\"T_e2d08_level0_row3\" class=\"row_heading level0 row3\" >upmc28</th>\n",
       "                        <td id=\"T_e2d08_row3_col0\" class=\"data row3 col0\" >2018-04-17</td>\n",
       "                        <td id=\"T_e2d08_row3_col1\" class=\"data row3 col1\" >1231 days</td>\n",
       "                        <td id=\"T_e2d08_row3_col2\" class=\"data row3 col2\" >3000</td>\n",
       "                        <td id=\"T_e2d08_row3_col3\" class=\"data row3 col3\" >0.410364</td>\n",
       "            </tr>\n",
       "            <tr>\n",
       "                        <th id=\"T_e2d08_level0_row4\" class=\"row_heading level0 row4\" >upmc37</th>\n",
       "                        <td id=\"T_e2d08_row4_col0\" class=\"data row4 col0\" >2018-04-17</td>\n",
       "                        <td id=\"T_e2d08_row4_col1\" class=\"data row4 col1\" >1230 days</td>\n",
       "                        <td id=\"T_e2d08_row4_col2\" class=\"data row4 col2\" >3000</td>\n",
       "                        <td id=\"T_e2d08_row4_col3\" class=\"data row4 col3\" >0.410312</td>\n",
       "            </tr>\n",
       "            <tr>\n",
       "                        <th id=\"T_e2d08_level0_row5\" class=\"row_heading level0 row5\" >upmc27</th>\n",
       "                        <td id=\"T_e2d08_row5_col0\" class=\"data row5 col0\" >2018-04-19</td>\n",
       "                        <td id=\"T_e2d08_row5_col1\" class=\"data row5 col1\" >1228 days</td>\n",
       "                        <td id=\"T_e2d08_row5_col2\" class=\"data row5 col2\" >3000</td>\n",
       "                        <td id=\"T_e2d08_row5_col3\" class=\"data row5 col3\" >0.409649</td>\n",
       "            </tr>\n",
       "    </tbody></table>"
      ],
      "text/plain": [
       "<pandas.io.formats.style.Styler at 0x7f80e9c1ddf0>"
      ]
     },
     "metadata": {},
     "output_type": "display_data"
    }
   ],
   "source": [
    "main()"
   ]
  },
  {
   "cell_type": "code",
   "execution_count": null,
   "id": "02474dd8",
   "metadata": {
    "papermill": {
     "duration": 0.005449,
     "end_time": "2021-08-30T18:18:29.825530",
     "exception": false,
     "start_time": "2021-08-30T18:18:29.820081",
     "status": "completed"
    },
    "tags": []
   },
   "outputs": [],
   "source": []
  }
 ],
 "metadata": {
  "interpreter": {
   "hash": "31f2aee4e71d21fbe5cf8b01ff0e069b9275f58929596ceb00d14d90e3e16cd6"
  },
  "kernelspec": {
   "display_name": "Python 3",
   "language": "python",
   "name": "python3"
  },
  "language_info": {
   "codemirror_mode": {
    "name": "ipython",
    "version": 3
   },
   "file_extension": ".py",
   "mimetype": "text/x-python",
   "name": "python",
   "nbconvert_exporter": "python",
   "pygments_lexer": "ipython3",
   "version": "3.8.5"
  },
  "papermill": {
   "default_parameters": {},
   "duration": 2.141772,
   "end_time": "2021-08-30T18:18:30.145968",
   "environment_variables": {},
   "exception": null,
   "input_path": "notebooks/SVN Reports.ipynb",
   "output_path": "samples/svn/upmc.ipynb",
   "parameters": {
    "site": "upmc"
   },
   "start_time": "2021-08-30T18:18:28.004196",
   "version": "2.3.3"
  }
 },
 "nbformat": 4,
 "nbformat_minor": 5
}