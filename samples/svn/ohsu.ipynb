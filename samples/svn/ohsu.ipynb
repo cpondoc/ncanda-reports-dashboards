{
 "cells": [
  {
   "cell_type": "markdown",
   "id": "284f7cad",
   "metadata": {
    "papermill": {
     "duration": 0.017849,
     "end_time": "2021-08-30T18:18:15.366287",
     "exception": false,
     "start_time": "2021-08-30T18:18:15.348438",
     "status": "completed"
    },
    "tags": []
   },
   "source": [
    "# SVN Reports Dashboard\n",
    "Reporting import/upload pipelines"
   ]
  },
  {
   "cell_type": "markdown",
   "id": "cc9b6f59",
   "metadata": {
    "papermill": {
     "duration": 0.008515,
     "end_time": "2021-08-30T18:18:15.385404",
     "exception": false,
     "start_time": "2021-08-30T18:18:15.376889",
     "status": "completed"
    },
    "tags": [
     "remove_cell"
    ]
   },
   "source": [
    "### Import Libraries\n",
    "Libraries necessary to parse through each dashboard"
   ]
  },
  {
   "cell_type": "code",
   "execution_count": 1,
   "id": "0a954128",
   "metadata": {
    "execution": {
     "iopub.execute_input": "2021-08-30T18:18:15.409865Z",
     "iopub.status.busy": "2021-08-30T18:18:15.409261Z",
     "iopub.status.idle": "2021-08-30T18:18:15.651525Z",
     "shell.execute_reply": "2021-08-30T18:18:15.651792Z"
    },
    "papermill": {
     "duration": 0.256373,
     "end_time": "2021-08-30T18:18:15.651983",
     "exception": false,
     "start_time": "2021-08-30T18:18:15.395610",
     "status": "completed"
    },
    "tags": [
     "remove_cell"
    ]
   },
   "outputs": [],
   "source": [
    "import datetime\n",
    "from IPython.display import display, Markdown, Latex\n",
    "import json\n",
    "import numpy as np\n",
    "import pandas as pd"
   ]
  },
  {
   "cell_type": "markdown",
   "id": "b830498f",
   "metadata": {
    "papermill": {
     "duration": 0.003884,
     "end_time": "2021-08-30T18:18:15.660189",
     "exception": false,
     "start_time": "2021-08-30T18:18:15.656305",
     "status": "completed"
    },
    "tags": [
     "remove_cell"
    ]
   },
   "source": [
    "### Parametrization\n",
    "Adding parameters for Papermill"
   ]
  },
  {
   "cell_type": "code",
   "execution_count": 2,
   "id": "8ba5c9a9",
   "metadata": {
    "execution": {
     "iopub.execute_input": "2021-08-30T18:18:15.670146Z",
     "iopub.status.busy": "2021-08-30T18:18:15.669760Z",
     "iopub.status.idle": "2021-08-30T18:18:15.671091Z",
     "shell.execute_reply": "2021-08-30T18:18:15.671336Z"
    },
    "papermill": {
     "duration": 0.007374,
     "end_time": "2021-08-30T18:18:15.671443",
     "exception": false,
     "start_time": "2021-08-30T18:18:15.664069",
     "status": "completed"
    },
    "tags": [
     "parameters"
    ]
   },
   "outputs": [],
   "source": [
    "site: str"
   ]
  },
  {
   "cell_type": "code",
   "execution_count": 3,
   "id": "c4397e55",
   "metadata": {
    "execution": {
     "iopub.execute_input": "2021-08-30T18:18:15.681198Z",
     "iopub.status.busy": "2021-08-30T18:18:15.680831Z",
     "iopub.status.idle": "2021-08-30T18:18:15.682050Z",
     "shell.execute_reply": "2021-08-30T18:18:15.682294Z"
    },
    "papermill": {
     "duration": 0.006965,
     "end_time": "2021-08-30T18:18:15.682402",
     "exception": false,
     "start_time": "2021-08-30T18:18:15.675437",
     "status": "completed"
    },
    "tags": [
     "injected-parameters"
    ]
   },
   "outputs": [],
   "source": [
    "# Parameters\n",
    "site = \"ohsu\"\n"
   ]
  },
  {
   "cell_type": "markdown",
   "id": "1dee31bd",
   "metadata": {
    "papermill": {
     "duration": 0.004063,
     "end_time": "2021-08-30T18:18:15.690518",
     "exception": false,
     "start_time": "2021-08-30T18:18:15.686455",
     "status": "completed"
    },
    "tags": [
     "remove_cell"
    ]
   },
   "source": [
    "### Setting Column Names\n",
    "Use an existing JSON file"
   ]
  },
  {
   "cell_type": "code",
   "execution_count": 4,
   "id": "1f007a55",
   "metadata": {
    "execution": {
     "iopub.execute_input": "2021-08-30T18:18:15.742024Z",
     "iopub.status.busy": "2021-08-30T18:18:15.741548Z",
     "iopub.status.idle": "2021-08-30T18:18:15.742885Z",
     "shell.execute_reply": "2021-08-30T18:18:15.743369Z"
    },
    "papermill": {
     "duration": 0.032884,
     "end_time": "2021-08-30T18:18:15.743503",
     "exception": false,
     "start_time": "2021-08-30T18:18:15.710619",
     "status": "completed"
    },
    "tags": [
     "remove_cell"
    ]
   },
   "outputs": [],
   "source": [
    "def get_special_columns(file_path):\n",
    "    f = open(file_path, \"r\")\n",
    "    data = json.load(f)\n",
    "    return data[0]\n",
    "\n",
    "new_column_names = get_special_columns(\"reference/svn_col_names.json\")"
   ]
  },
  {
   "cell_type": "markdown",
   "id": "7f36b0a5",
   "metadata": {
    "papermill": {
     "duration": 0.004948,
     "end_time": "2021-08-30T18:18:15.754008",
     "exception": false,
     "start_time": "2021-08-30T18:18:15.749060",
     "status": "completed"
    },
    "tags": [
     "remove_cell"
    ]
   },
   "source": [
    "### Set up Table Styles\n",
    "Use `pandas.style` to set up some graphical styles for the main reports table."
   ]
  },
  {
   "cell_type": "code",
   "execution_count": 5,
   "id": "cdc25e33",
   "metadata": {
    "execution": {
     "iopub.execute_input": "2021-08-30T18:18:15.767315Z",
     "iopub.status.busy": "2021-08-30T18:18:15.766914Z",
     "iopub.status.idle": "2021-08-30T18:18:15.768031Z",
     "shell.execute_reply": "2021-08-30T18:18:15.768415Z"
    },
    "papermill": {
     "duration": 0.009556,
     "end_time": "2021-08-30T18:18:15.768525",
     "exception": false,
     "start_time": "2021-08-30T18:18:15.758969",
     "status": "completed"
    },
    "tags": [
     "remove_cell"
    ]
   },
   "outputs": [],
   "source": [
    "table_styles = [{\n",
    "    'selector': 'td',\n",
    "    'props': [('background-color', '#FFFFFF'), ('color', '#000000')]\n",
    "}, \n",
    "{\n",
    "    'selector': 'th',\n",
    "    'props': [('background-color', '#000000'), ('color', '#FFFFFF')]\n",
    "}]\n",
    "\n",
    "def style_row(x):\n",
    "    # For the sla_percentage: row == 3\n",
    "    style = [None] * x.size\n",
    "    sample_series = pd.DataFrame(data=x).iloc[3]\n",
    "    for index, value in sample_series.items():\n",
    "        if (value > 1):\n",
    "            style[3] = \"color: red !important;\"\n",
    "            if (value > 10):\n",
    "                style[3] = style[3] + \" font-weight: bold;\"\n",
    "    return style"
   ]
  },
  {
   "cell_type": "markdown",
   "id": "ed486891",
   "metadata": {
    "papermill": {
     "duration": 0.004368,
     "end_time": "2021-08-30T18:18:15.777334",
     "exception": false,
     "start_time": "2021-08-30T18:18:15.772966",
     "status": "completed"
    },
    "tags": [
     "remove_cell"
    ]
   },
   "source": [
    "### Define Functions\n",
    "Define functions to parse through each of the sites and print them to the screen"
   ]
  },
  {
   "cell_type": "code",
   "execution_count": 6,
   "id": "910407a6",
   "metadata": {
    "execution": {
     "iopub.execute_input": "2021-08-30T18:18:15.790855Z",
     "iopub.status.busy": "2021-08-30T18:18:15.790416Z",
     "iopub.status.idle": "2021-08-30T18:18:15.791754Z",
     "shell.execute_reply": "2021-08-30T18:18:15.792069Z"
    },
    "papermill": {
     "duration": 0.010608,
     "end_time": "2021-08-30T18:18:15.792178",
     "exception": false,
     "start_time": "2021-08-30T18:18:15.781570",
     "status": "completed"
    },
    "tags": [
     "remove_cell"
    ]
   },
   "outputs": [],
   "source": [
    "# In future iterations, display path is:  '../../../../../log/status_reports/'\n",
    "def load_dataframe_and_display(file_name=None):\n",
    "    # Header and load in dataframe\n",
    "    display(Markdown('## SLA ' + file_name + ' Dashboard'))\n",
    "    df = pd.read_csv('status_reports/' + file_name.lower() + '.csv', parse_dates=['date_updated'])\n",
    "    durations = df['sla'].unique().tolist()\n",
    "    durations = np.sort(durations)\n",
    "    \n",
    "    # Categorize each report by SLA (3, 30, 3000 -> Dead)\n",
    "    for duration in durations:\n",
    "        # Find specific data subset and \n",
    "        duration_df = df.loc[df['sla'] == duration] # Find specific dataframe\n",
    "        duration_df = duration_df.rename(columns={'laptop':'Laptop'}, errors=\"raise\")\n",
    "        \n",
    "        # Create header\n",
    "        duration_str = str(duration) + '-Day'\n",
    "        if (duration == 3000):\n",
    "            duration_str = 'Dead'\n",
    "        display(Markdown(duration_str + ' SLA Laptop Report'))\n",
    "        \n",
    "        # Set index and update date format (latter is hacky -> can fix)\n",
    "        duration_df = duration_df.set_index(['Laptop'])\n",
    "        if (duration == 3):\n",
    "            duration_df['date_updated'] = duration_df['date_updated'].dt.strftime('%Y-%m-%d %H:%M')\n",
    "            duration_df['time_diff'] = duration_df['time_diff'].apply(lambda x: str(x)[:str(x).find(\".\") - 3])\n",
    "        else:\n",
    "            duration_df['date_updated'] = duration_df['date_updated'].dt.strftime('%Y-%m-%d')\n",
    "            duration_df['time_diff'] = duration_df['time_diff'].apply(lambda x: str(x)[:str(x).find(\"days\") + len(\"days\")])\n",
    "            \n",
    "        # Rename columns, style, and display\n",
    "        duration_df = duration_df.rename(columns=new_column_names)\n",
    "        se = duration_df.style.set_table_styles(table_styles).apply(lambda x: style_row(x), axis=1)\n",
    "        display(se)\n",
    "        \n",
    "def main():\n",
    "    load_dataframe_and_display(site)"
   ]
  },
  {
   "cell_type": "markdown",
   "id": "8f03a2ed",
   "metadata": {
    "papermill": {
     "duration": 0.004123,
     "end_time": "2021-08-30T18:18:15.800551",
     "exception": false,
     "start_time": "2021-08-30T18:18:15.796428",
     "status": "completed"
    },
    "tags": [
     "remove_cell"
    ]
   },
   "source": [
    "### Run all\n",
    "Run functions and produce dashboards for each site"
   ]
  },
  {
   "cell_type": "code",
   "execution_count": 7,
   "id": "aa300148",
   "metadata": {
    "execution": {
     "iopub.execute_input": "2021-08-30T18:18:15.813485Z",
     "iopub.status.busy": "2021-08-30T18:18:15.813025Z",
     "iopub.status.idle": "2021-08-30T18:18:16.061067Z",
     "shell.execute_reply": "2021-08-30T18:18:16.061377Z"
    },
    "papermill": {
     "duration": 0.256873,
     "end_time": "2021-08-30T18:18:16.061501",
     "exception": false,
     "start_time": "2021-08-30T18:18:15.804628",
     "status": "completed"
    },
    "tags": []
   },
   "outputs": [
    {
     "data": {
      "text/markdown": [
       "## SLA ohsu Dashboard"
      ],
      "text/plain": [
       "<IPython.core.display.Markdown object>"
      ]
     },
     "metadata": {},
     "output_type": "display_data"
    },
    {
     "data": {
      "text/markdown": [
       "30-Day SLA Laptop Report"
      ],
      "text/plain": [
       "<IPython.core.display.Markdown object>"
      ]
     },
     "metadata": {},
     "output_type": "display_data"
    },
    {
     "data": {
      "text/html": [
       "<style  type=\"text/css\" >\n",
       "    #T_11376_ td {\n",
       "          background-color: #FFFFFF;\n",
       "          color: #000000;\n",
       "    }    #T_11376_ th {\n",
       "          background-color: #000000;\n",
       "          color: #FFFFFF;\n",
       "    }#T_11376_row0_col3,#T_11376_row1_col3,#T_11376_row2_col3{\n",
       "            color:  red !important;\n",
       "             font-weight:  bold;\n",
       "        }#T_11376_row3_col3,#T_11376_row4_col3{\n",
       "            color:  red !important;\n",
       "        }</style><table id=\"T_11376_\" ><thead>    <tr>        <th class=\"blank level0\" ></th>        <th class=\"col_heading level0 col0\" >Date Updated</th>        <th class=\"col_heading level0 col1\" >Time Difference</th>        <th class=\"col_heading level0 col2\" >SLA</th>        <th class=\"col_heading level0 col3\" >SLA %</th>    </tr>    <tr>        <th class=\"index_name level0\" >Laptop</th>        <th class=\"blank\" ></th>        <th class=\"blank\" ></th>        <th class=\"blank\" ></th>        <th class=\"blank\" ></th>    </tr></thead><tbody>\n",
       "                <tr>\n",
       "                        <th id=\"T_11376_level0_row0\" class=\"row_heading level0 row0\" >ohsu20</th>\n",
       "                        <td id=\"T_11376_row0_col0\" class=\"data row0 col0\" >2018-04-16</td>\n",
       "                        <td id=\"T_11376_row0_col1\" class=\"data row0 col1\" >1232 days</td>\n",
       "                        <td id=\"T_11376_row0_col2\" class=\"data row0 col2\" >30</td>\n",
       "                        <td id=\"T_11376_row0_col3\" class=\"data row0 col3\" >41.068996</td>\n",
       "            </tr>\n",
       "            <tr>\n",
       "                        <th id=\"T_11376_level0_row1\" class=\"row_heading level0 row1\" >ohsu21</th>\n",
       "                        <td id=\"T_11376_row1_col0\" class=\"data row1 col0\" >2018-04-20</td>\n",
       "                        <td id=\"T_11376_row1_col1\" class=\"data row1 col1\" >1228 days</td>\n",
       "                        <td id=\"T_11376_row1_col2\" class=\"data row1 col2\" >30</td>\n",
       "                        <td id=\"T_11376_row1_col3\" class=\"data row1 col3\" >40.936611</td>\n",
       "            </tr>\n",
       "            <tr>\n",
       "                        <th id=\"T_11376_level0_row2\" class=\"row_heading level0 row2\" >ohsu52</th>\n",
       "                        <td id=\"T_11376_row2_col0\" class=\"data row2 col0\" >2018-10-05</td>\n",
       "                        <td id=\"T_11376_row2_col1\" class=\"data row2 col1\" >1059 days</td>\n",
       "                        <td id=\"T_11376_row2_col2\" class=\"data row2 col2\" >30</td>\n",
       "                        <td id=\"T_11376_row2_col3\" class=\"data row2 col3\" >35.332718</td>\n",
       "            </tr>\n",
       "            <tr>\n",
       "                        <th id=\"T_11376_level0_row3\" class=\"row_heading level0 row3\" >ohsu51</th>\n",
       "                        <td id=\"T_11376_row3_col0\" class=\"data row3 col0\" >2021-05-25</td>\n",
       "                        <td id=\"T_11376_row3_col1\" class=\"data row3 col1\" >96 days</td>\n",
       "                        <td id=\"T_11376_row3_col2\" class=\"data row3 col2\" >30</td>\n",
       "                        <td id=\"T_11376_row3_col3\" class=\"data row3 col3\" >3.229623</td>\n",
       "            </tr>\n",
       "            <tr>\n",
       "                        <th id=\"T_11376_level0_row4\" class=\"row_heading level0 row4\" >ohsu50</th>\n",
       "                        <td id=\"T_11376_row4_col0\" class=\"data row4 col0\" >2021-07-27</td>\n",
       "                        <td id=\"T_11376_row4_col1\" class=\"data row4 col1\" >34 days</td>\n",
       "                        <td id=\"T_11376_row4_col2\" class=\"data row4 col2\" >30</td>\n",
       "                        <td id=\"T_11376_row4_col3\" class=\"data row4 col3\" >1.153798</td>\n",
       "            </tr>\n",
       "    </tbody></table>"
      ],
      "text/plain": [
       "<pandas.io.formats.style.Styler at 0x7f8a7251ca60>"
      ]
     },
     "metadata": {},
     "output_type": "display_data"
    },
    {
     "data": {
      "text/markdown": [
       "Dead SLA Laptop Report"
      ],
      "text/plain": [
       "<IPython.core.display.Markdown object>"
      ]
     },
     "metadata": {},
     "output_type": "display_data"
    },
    {
     "data": {
      "text/html": [
       "<style  type=\"text/css\" >\n",
       "    #T_821d0_ td {\n",
       "          background-color: #FFFFFF;\n",
       "          color: #000000;\n",
       "    }    #T_821d0_ th {\n",
       "          background-color: #000000;\n",
       "          color: #FFFFFF;\n",
       "    }</style><table id=\"T_821d0_\" ><thead>    <tr>        <th class=\"blank level0\" ></th>        <th class=\"col_heading level0 col0\" >Date Updated</th>        <th class=\"col_heading level0 col1\" >Time Difference</th>        <th class=\"col_heading level0 col2\" >SLA</th>        <th class=\"col_heading level0 col3\" >SLA %</th>    </tr>    <tr>        <th class=\"index_name level0\" >Laptop</th>        <th class=\"blank\" ></th>        <th class=\"blank\" ></th>        <th class=\"blank\" ></th>        <th class=\"blank\" ></th>    </tr></thead><tbody>\n",
       "                <tr>\n",
       "                        <th id=\"T_821d0_level0_row0\" class=\"row_heading level0 row0\" >ohsu-merge</th>\n",
       "                        <td id=\"T_821d0_row0_col0\" class=\"data row0 col0\" >2013-10-31</td>\n",
       "                        <td id=\"T_821d0_row0_col1\" class=\"data row0 col1\" >2859 days</td>\n",
       "                        <td id=\"T_821d0_row0_col2\" class=\"data row0 col2\" >3000</td>\n",
       "                        <td id=\"T_821d0_row0_col3\" class=\"data row0 col3\" >0.953256</td>\n",
       "            </tr>\n",
       "            <tr>\n",
       "                        <th id=\"T_821d0_level0_row1\" class=\"row_heading level0 row1\" >ohsu44</th>\n",
       "                        <td id=\"T_821d0_row1_col0\" class=\"data row1 col0\" >2015-08-28</td>\n",
       "                        <td id=\"T_821d0_row1_col1\" class=\"data row1 col1\" >2193 days</td>\n",
       "                        <td id=\"T_821d0_row1_col2\" class=\"data row1 col2\" >3000</td>\n",
       "                        <td id=\"T_821d0_row1_col3\" class=\"data row1 col3\" >0.731257</td>\n",
       "            </tr>\n",
       "            <tr>\n",
       "                        <th id=\"T_821d0_level0_row2\" class=\"row_heading level0 row2\" >ohsu45</th>\n",
       "                        <td id=\"T_821d0_row2_col0\" class=\"data row2 col0\" >2018-02-26</td>\n",
       "                        <td id=\"T_821d0_row2_col1\" class=\"data row2 col1\" >1281 days</td>\n",
       "                        <td id=\"T_821d0_row2_col2\" class=\"data row2 col2\" >3000</td>\n",
       "                        <td id=\"T_821d0_row2_col3\" class=\"data row2 col3\" >0.427006</td>\n",
       "            </tr>\n",
       "            <tr>\n",
       "                        <th id=\"T_821d0_level0_row3\" class=\"row_heading level0 row3\" >ohsu46</th>\n",
       "                        <td id=\"T_821d0_row3_col0\" class=\"data row3 col0\" >2018-02-26</td>\n",
       "                        <td id=\"T_821d0_row3_col1\" class=\"data row3 col1\" >1281 days</td>\n",
       "                        <td id=\"T_821d0_row3_col2\" class=\"data row3 col2\" >3000</td>\n",
       "                        <td id=\"T_821d0_row3_col3\" class=\"data row3 col3\" >0.427006</td>\n",
       "            </tr>\n",
       "            <tr>\n",
       "                        <th id=\"T_821d0_level0_row4\" class=\"row_heading level0 row4\" >ohsu32</th>\n",
       "                        <td id=\"T_821d0_row4_col0\" class=\"data row4 col0\" >2018-03-05</td>\n",
       "                        <td id=\"T_821d0_row4_col1\" class=\"data row4 col1\" >1274 days</td>\n",
       "                        <td id=\"T_821d0_row4_col2\" class=\"data row4 col2\" >3000</td>\n",
       "                        <td id=\"T_821d0_row4_col3\" class=\"data row4 col3\" >0.424904</td>\n",
       "            </tr>\n",
       "            <tr>\n",
       "                        <th id=\"T_821d0_level0_row5\" class=\"row_heading level0 row5\" >ohsu9</th>\n",
       "                        <td id=\"T_821d0_row5_col0\" class=\"data row5 col0\" >2018-04-02</td>\n",
       "                        <td id=\"T_821d0_row5_col1\" class=\"data row5 col1\" >1246 days</td>\n",
       "                        <td id=\"T_821d0_row5_col2\" class=\"data row5 col2\" >3000</td>\n",
       "                        <td id=\"T_821d0_row5_col3\" class=\"data row5 col3\" >0.415365</td>\n",
       "            </tr>\n",
       "            <tr>\n",
       "                        <th id=\"T_821d0_level0_row6\" class=\"row_heading level0 row6\" >ohsu10</th>\n",
       "                        <td id=\"T_821d0_row6_col0\" class=\"data row6 col0\" >2018-10-01</td>\n",
       "                        <td id=\"T_821d0_row6_col1\" class=\"data row6 col1\" >1063 days</td>\n",
       "                        <td id=\"T_821d0_row6_col2\" class=\"data row6 col2\" >3000</td>\n",
       "                        <td id=\"T_821d0_row6_col3\" class=\"data row6 col3\" >0.354617</td>\n",
       "            </tr>\n",
       "    </tbody></table>"
      ],
      "text/plain": [
       "<pandas.io.formats.style.Styler at 0x7f8a7327b4f0>"
      ]
     },
     "metadata": {},
     "output_type": "display_data"
    }
   ],
   "source": [
    "main()"
   ]
  },
  {
   "cell_type": "code",
   "execution_count": null,
   "id": "3d3d00bd",
   "metadata": {
    "papermill": {
     "duration": 0.005354,
     "end_time": "2021-08-30T18:18:16.072683",
     "exception": false,
     "start_time": "2021-08-30T18:18:16.067329",
     "status": "completed"
    },
    "tags": []
   },
   "outputs": [],
   "source": []
  }
 ],
 "metadata": {
  "interpreter": {
   "hash": "31f2aee4e71d21fbe5cf8b01ff0e069b9275f58929596ceb00d14d90e3e16cd6"
  },
  "kernelspec": {
   "display_name": "Python 3",
   "language": "python",
   "name": "python3"
  },
  "language_info": {
   "codemirror_mode": {
    "name": "ipython",
    "version": 3
   },
   "file_extension": ".py",
   "mimetype": "text/x-python",
   "name": "python",
   "nbconvert_exporter": "python",
   "pygments_lexer": "ipython3",
   "version": "3.8.5"
  },
  "papermill": {
   "default_parameters": {},
   "duration": 1.89008,
   "end_time": "2021-08-30T18:18:16.396800",
   "environment_variables": {},
   "exception": null,
   "input_path": "notebooks/SVN Reports.ipynb",
   "output_path": "samples/svn/ohsu.ipynb",
   "parameters": {
    "site": "ohsu"
   },
   "start_time": "2021-08-30T18:18:14.506720",
   "version": "2.3.3"
  }
 },
 "nbformat": 4,
 "nbformat_minor": 5
}