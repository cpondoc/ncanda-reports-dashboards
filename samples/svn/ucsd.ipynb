{
 "cells": [
  {
   "cell_type": "markdown",
   "id": "84a1bbc7",
   "metadata": {
    "papermill": {
     "duration": 0.018529,
     "end_time": "2021-08-30T18:18:25.361989",
     "exception": false,
     "start_time": "2021-08-30T18:18:25.343460",
     "status": "completed"
    },
    "tags": []
   },
   "source": [
    "# SVN Reports Dashboard\n",
    "Reporting import/upload pipelines"
   ]
  },
  {
   "cell_type": "markdown",
   "id": "68af5027",
   "metadata": {
    "papermill": {
     "duration": 0.004284,
     "end_time": "2021-08-30T18:18:25.375505",
     "exception": false,
     "start_time": "2021-08-30T18:18:25.371221",
     "status": "completed"
    },
    "tags": [
     "remove_cell"
    ]
   },
   "source": [
    "### Import Libraries\n",
    "Libraries necessary to parse through each dashboard"
   ]
  },
  {
   "cell_type": "code",
   "execution_count": 1,
   "id": "fb45aaf2",
   "metadata": {
    "execution": {
     "iopub.execute_input": "2021-08-30T18:18:25.390659Z",
     "iopub.status.busy": "2021-08-30T18:18:25.390240Z",
     "iopub.status.idle": "2021-08-30T18:18:25.646519Z",
     "shell.execute_reply": "2021-08-30T18:18:25.646757Z"
    },
    "papermill": {
     "duration": 0.265895,
     "end_time": "2021-08-30T18:18:25.646942",
     "exception": false,
     "start_time": "2021-08-30T18:18:25.381047",
     "status": "completed"
    },
    "tags": [
     "remove_cell"
    ]
   },
   "outputs": [],
   "source": [
    "import datetime\n",
    "from IPython.display import display, Markdown, Latex\n",
    "import json\n",
    "import numpy as np\n",
    "import pandas as pd"
   ]
  },
  {
   "cell_type": "markdown",
   "id": "7f9f25b7",
   "metadata": {
    "papermill": {
     "duration": 0.00395,
     "end_time": "2021-08-30T18:18:25.655332",
     "exception": false,
     "start_time": "2021-08-30T18:18:25.651382",
     "status": "completed"
    },
    "tags": [
     "remove_cell"
    ]
   },
   "source": [
    "### Parametrization\n",
    "Adding parameters for Papermill"
   ]
  },
  {
   "cell_type": "code",
   "execution_count": 2,
   "id": "f0357e56",
   "metadata": {
    "execution": {
     "iopub.execute_input": "2021-08-30T18:18:25.665652Z",
     "iopub.status.busy": "2021-08-30T18:18:25.665279Z",
     "iopub.status.idle": "2021-08-30T18:18:25.666496Z",
     "shell.execute_reply": "2021-08-30T18:18:25.666737Z"
    },
    "papermill": {
     "duration": 0.007532,
     "end_time": "2021-08-30T18:18:25.666846",
     "exception": false,
     "start_time": "2021-08-30T18:18:25.659314",
     "status": "completed"
    },
    "tags": [
     "parameters"
    ]
   },
   "outputs": [],
   "source": [
    "site: str"
   ]
  },
  {
   "cell_type": "code",
   "execution_count": 3,
   "id": "77f6b225",
   "metadata": {
    "execution": {
     "iopub.execute_input": "2021-08-30T18:18:25.677024Z",
     "iopub.status.busy": "2021-08-30T18:18:25.676626Z",
     "iopub.status.idle": "2021-08-30T18:18:25.677816Z",
     "shell.execute_reply": "2021-08-30T18:18:25.678043Z"
    },
    "papermill": {
     "duration": 0.007232,
     "end_time": "2021-08-30T18:18:25.678151",
     "exception": false,
     "start_time": "2021-08-30T18:18:25.670919",
     "status": "completed"
    },
    "tags": [
     "injected-parameters"
    ]
   },
   "outputs": [],
   "source": [
    "# Parameters\n",
    "site = \"ucsd\"\n"
   ]
  },
  {
   "cell_type": "markdown",
   "id": "ca505a66",
   "metadata": {
    "papermill": {
     "duration": 0.004032,
     "end_time": "2021-08-30T18:18:25.686221",
     "exception": false,
     "start_time": "2021-08-30T18:18:25.682189",
     "status": "completed"
    },
    "tags": [
     "remove_cell"
    ]
   },
   "source": [
    "### Setting Column Names\n",
    "Use an existing JSON file"
   ]
  },
  {
   "cell_type": "code",
   "execution_count": 4,
   "id": "141faa91",
   "metadata": {
    "execution": {
     "iopub.execute_input": "2021-08-30T18:18:25.697174Z",
     "iopub.status.busy": "2021-08-30T18:18:25.696796Z",
     "iopub.status.idle": "2021-08-30T18:18:25.698378Z",
     "shell.execute_reply": "2021-08-30T18:18:25.698620Z"
    },
    "papermill": {
     "duration": 0.008336,
     "end_time": "2021-08-30T18:18:25.698732",
     "exception": false,
     "start_time": "2021-08-30T18:18:25.690396",
     "status": "completed"
    },
    "tags": [
     "remove_cell"
    ]
   },
   "outputs": [],
   "source": [
    "def get_special_columns(file_path):\n",
    "    f = open(file_path, \"r\")\n",
    "    data = json.load(f)\n",
    "    return data[0]\n",
    "\n",
    "new_column_names = get_special_columns(\"reference/svn_col_names.json\")"
   ]
  },
  {
   "cell_type": "markdown",
   "id": "fb40374a",
   "metadata": {
    "papermill": {
     "duration": 0.004085,
     "end_time": "2021-08-30T18:18:25.707024",
     "exception": false,
     "start_time": "2021-08-30T18:18:25.702939",
     "status": "completed"
    },
    "tags": [
     "remove_cell"
    ]
   },
   "source": [
    "### Set up Table Styles\n",
    "Use `pandas.style` to set up some graphical styles for the main reports table."
   ]
  },
  {
   "cell_type": "code",
   "execution_count": 5,
   "id": "673ec0c9",
   "metadata": {
    "execution": {
     "iopub.execute_input": "2021-08-30T18:18:25.718626Z",
     "iopub.status.busy": "2021-08-30T18:18:25.718240Z",
     "iopub.status.idle": "2021-08-30T18:18:25.719553Z",
     "shell.execute_reply": "2021-08-30T18:18:25.719791Z"
    },
    "papermill": {
     "duration": 0.008761,
     "end_time": "2021-08-30T18:18:25.719898",
     "exception": false,
     "start_time": "2021-08-30T18:18:25.711137",
     "status": "completed"
    },
    "tags": [
     "remove_cell"
    ]
   },
   "outputs": [],
   "source": [
    "table_styles = [{\n",
    "    'selector': 'td',\n",
    "    'props': [('background-color', '#FFFFFF'), ('color', '#000000')]\n",
    "}, \n",
    "{\n",
    "    'selector': 'th',\n",
    "    'props': [('background-color', '#000000'), ('color', '#FFFFFF')]\n",
    "}]\n",
    "\n",
    "def style_row(x):\n",
    "    # For the sla_percentage: row == 3\n",
    "    style = [None] * x.size\n",
    "    sample_series = pd.DataFrame(data=x).iloc[3]\n",
    "    for index, value in sample_series.items():\n",
    "        if (value > 1):\n",
    "            style[3] = \"color: red !important;\"\n",
    "            if (value > 10):\n",
    "                style[3] = style[3] + \" font-weight: bold;\"\n",
    "    return style"
   ]
  },
  {
   "cell_type": "markdown",
   "id": "306ffe5f",
   "metadata": {
    "papermill": {
     "duration": 0.004129,
     "end_time": "2021-08-30T18:18:25.728250",
     "exception": false,
     "start_time": "2021-08-30T18:18:25.724121",
     "status": "completed"
    },
    "tags": [
     "remove_cell"
    ]
   },
   "source": [
    "### Define Functions\n",
    "Define functions to parse through each of the sites and print them to the screen"
   ]
  },
  {
   "cell_type": "code",
   "execution_count": 6,
   "id": "2c5c8db0",
   "metadata": {
    "execution": {
     "iopub.execute_input": "2021-08-30T18:18:25.741504Z",
     "iopub.status.busy": "2021-08-30T18:18:25.741101Z",
     "iopub.status.idle": "2021-08-30T18:18:25.742392Z",
     "shell.execute_reply": "2021-08-30T18:18:25.742639Z"
    },
    "papermill": {
     "duration": 0.010379,
     "end_time": "2021-08-30T18:18:25.742749",
     "exception": false,
     "start_time": "2021-08-30T18:18:25.732370",
     "status": "completed"
    },
    "tags": [
     "remove_cell"
    ]
   },
   "outputs": [],
   "source": [
    "# In future iterations, display path is:  '../../../../../log/status_reports/'\n",
    "def load_dataframe_and_display(file_name=None):\n",
    "    # Header and load in dataframe\n",
    "    display(Markdown('## SLA ' + file_name + ' Dashboard'))\n",
    "    df = pd.read_csv('status_reports/' + file_name.lower() + '.csv', parse_dates=['date_updated'])\n",
    "    durations = df['sla'].unique().tolist()\n",
    "    durations = np.sort(durations)\n",
    "    \n",
    "    # Categorize each report by SLA (3, 30, 3000 -> Dead)\n",
    "    for duration in durations:\n",
    "        # Find specific data subset and \n",
    "        duration_df = df.loc[df['sla'] == duration] # Find specific dataframe\n",
    "        duration_df = duration_df.rename(columns={'laptop':'Laptop'}, errors=\"raise\")\n",
    "        \n",
    "        # Create header\n",
    "        duration_str = str(duration) + '-Day'\n",
    "        if (duration == 3000):\n",
    "            duration_str = 'Dead'\n",
    "        display(Markdown(duration_str + ' SLA Laptop Report'))\n",
    "        \n",
    "        # Set index and update date format (latter is hacky -> can fix)\n",
    "        duration_df = duration_df.set_index(['Laptop'])\n",
    "        if (duration == 3):\n",
    "            duration_df['date_updated'] = duration_df['date_updated'].dt.strftime('%Y-%m-%d %H:%M')\n",
    "            duration_df['time_diff'] = duration_df['time_diff'].apply(lambda x: str(x)[:str(x).find(\".\") - 3])\n",
    "        else:\n",
    "            duration_df['date_updated'] = duration_df['date_updated'].dt.strftime('%Y-%m-%d')\n",
    "            duration_df['time_diff'] = duration_df['time_diff'].apply(lambda x: str(x)[:str(x).find(\"days\") + len(\"days\")])\n",
    "            \n",
    "        # Rename columns, style, and display\n",
    "        duration_df = duration_df.rename(columns=new_column_names)\n",
    "        se = duration_df.style.set_table_styles(table_styles).apply(lambda x: style_row(x), axis=1)\n",
    "        display(se)\n",
    "        \n",
    "def main():\n",
    "    load_dataframe_and_display(site)"
   ]
  },
  {
   "cell_type": "markdown",
   "id": "44be1110",
   "metadata": {
    "papermill": {
     "duration": 0.004157,
     "end_time": "2021-08-30T18:18:25.751204",
     "exception": false,
     "start_time": "2021-08-30T18:18:25.747047",
     "status": "completed"
    },
    "tags": [
     "remove_cell"
    ]
   },
   "source": [
    "### Run all\n",
    "Run functions and produce dashboards for each site"
   ]
  },
  {
   "cell_type": "code",
   "execution_count": 7,
   "id": "d90a234c",
   "metadata": {
    "execution": {
     "iopub.execute_input": "2021-08-30T18:18:25.764262Z",
     "iopub.status.busy": "2021-08-30T18:18:25.763825Z",
     "iopub.status.idle": "2021-08-30T18:18:26.030680Z",
     "shell.execute_reply": "2021-08-30T18:18:26.030995Z"
    },
    "papermill": {
     "duration": 0.2757,
     "end_time": "2021-08-30T18:18:26.031118",
     "exception": false,
     "start_time": "2021-08-30T18:18:25.755418",
     "status": "completed"
    },
    "tags": []
   },
   "outputs": [
    {
     "data": {
      "text/markdown": [
       "## SLA ucsd Dashboard"
      ],
      "text/plain": [
       "<IPython.core.display.Markdown object>"
      ]
     },
     "metadata": {},
     "output_type": "display_data"
    },
    {
     "data": {
      "text/markdown": [
       "3-Day SLA Laptop Report"
      ],
      "text/plain": [
       "<IPython.core.display.Markdown object>"
      ]
     },
     "metadata": {},
     "output_type": "display_data"
    },
    {
     "data": {
      "text/html": [
       "<style  type=\"text/css\" >\n",
       "    #T_0f7ad_ td {\n",
       "          background-color: #FFFFFF;\n",
       "          color: #000000;\n",
       "    }    #T_0f7ad_ th {\n",
       "          background-color: #000000;\n",
       "          color: #FFFFFF;\n",
       "    }#T_0f7ad_row0_col3{\n",
       "            color:  red !important;\n",
       "        }</style><table id=\"T_0f7ad_\" ><thead>    <tr>        <th class=\"blank level0\" ></th>        <th class=\"col_heading level0 col0\" >Date Updated</th>        <th class=\"col_heading level0 col1\" >Time Difference</th>        <th class=\"col_heading level0 col2\" >SLA</th>        <th class=\"col_heading level0 col3\" >SLA %</th>    </tr>    <tr>        <th class=\"index_name level0\" >Laptop</th>        <th class=\"blank\" ></th>        <th class=\"blank\" ></th>        <th class=\"blank\" ></th>        <th class=\"blank\" ></th>    </tr></thead><tbody>\n",
       "                <tr>\n",
       "                        <th id=\"T_0f7ad_level0_row0\" class=\"row_heading level0 row0\" >ucsd51</th>\n",
       "                        <td id=\"T_0f7ad_row0_col0\" class=\"data row0 col0\" >2021-08-11 18:17</td>\n",
       "                        <td id=\"T_0f7ad_row0_col1\" class=\"data row0 col1\" >18 days 23:39</td>\n",
       "                        <td id=\"T_0f7ad_row0_col2\" class=\"data row0 col2\" >3</td>\n",
       "                        <td id=\"T_0f7ad_row0_col3\" class=\"data row0 col3\" >6.328596</td>\n",
       "            </tr>\n",
       "            <tr>\n",
       "                        <th id=\"T_0f7ad_level0_row1\" class=\"row_heading level0 row1\" >ucsd49</th>\n",
       "                        <td id=\"T_0f7ad_row1_col0\" class=\"data row1 col0\" >2021-08-28 19:03</td>\n",
       "                        <td id=\"T_0f7ad_row1_col1\" class=\"data row1 col1\" >1 days 22:53</td>\n",
       "                        <td id=\"T_0f7ad_row1_col2\" class=\"data row1 col2\" >3</td>\n",
       "                        <td id=\"T_0f7ad_row1_col3\" class=\"data row1 col3\" >0.651332</td>\n",
       "            </tr>\n",
       "    </tbody></table>"
      ],
      "text/plain": [
       "<pandas.io.formats.style.Styler at 0x7f83c98c79a0>"
      ]
     },
     "metadata": {},
     "output_type": "display_data"
    },
    {
     "data": {
      "text/markdown": [
       "30-Day SLA Laptop Report"
      ],
      "text/plain": [
       "<IPython.core.display.Markdown object>"
      ]
     },
     "metadata": {},
     "output_type": "display_data"
    },
    {
     "data": {
      "text/html": [
       "<style  type=\"text/css\" >\n",
       "    #T_770fd_ td {\n",
       "          background-color: #FFFFFF;\n",
       "          color: #000000;\n",
       "    }    #T_770fd_ th {\n",
       "          background-color: #000000;\n",
       "          color: #FFFFFF;\n",
       "    }#T_770fd_row0_col3{\n",
       "            color:  red !important;\n",
       "             font-weight:  bold;\n",
       "        }#T_770fd_row1_col3,#T_770fd_row2_col3,#T_770fd_row3_col3{\n",
       "            color:  red !important;\n",
       "        }</style><table id=\"T_770fd_\" ><thead>    <tr>        <th class=\"blank level0\" ></th>        <th class=\"col_heading level0 col0\" >Date Updated</th>        <th class=\"col_heading level0 col1\" >Time Difference</th>        <th class=\"col_heading level0 col2\" >SLA</th>        <th class=\"col_heading level0 col3\" >SLA %</th>    </tr>    <tr>        <th class=\"index_name level0\" >Laptop</th>        <th class=\"blank\" ></th>        <th class=\"blank\" ></th>        <th class=\"blank\" ></th>        <th class=\"blank\" ></th>    </tr></thead><tbody>\n",
       "                <tr>\n",
       "                        <th id=\"T_770fd_level0_row0\" class=\"row_heading level0 row0\" >ucsd22</th>\n",
       "                        <td id=\"T_770fd_row0_col0\" class=\"data row0 col0\" >2018-04-04</td>\n",
       "                        <td id=\"T_770fd_row0_col1\" class=\"data row0 col1\" >1243 days</td>\n",
       "                        <td id=\"T_770fd_row0_col2\" class=\"data row0 col2\" >30</td>\n",
       "                        <td id=\"T_770fd_row0_col3\" class=\"data row0 col3\" >41.459945</td>\n",
       "            </tr>\n",
       "            <tr>\n",
       "                        <th id=\"T_770fd_level0_row1\" class=\"row_heading level0 row1\" >ucsd54</th>\n",
       "                        <td id=\"T_770fd_row1_col0\" class=\"data row1 col0\" >2021-02-17</td>\n",
       "                        <td id=\"T_770fd_row1_col1\" class=\"data row1 col1\" >194 days</td>\n",
       "                        <td id=\"T_770fd_row1_col2\" class=\"data row1 col2\" >30</td>\n",
       "                        <td id=\"T_770fd_row1_col3\" class=\"data row1 col3\" >6.489901</td>\n",
       "            </tr>\n",
       "            <tr>\n",
       "                        <th id=\"T_770fd_level0_row2\" class=\"row_heading level0 row2\" >ucsd52</th>\n",
       "                        <td id=\"T_770fd_row2_col0\" class=\"data row2 col0\" >2021-02-22</td>\n",
       "                        <td id=\"T_770fd_row2_col1\" class=\"data row2 col1\" >188 days</td>\n",
       "                        <td id=\"T_770fd_row2_col2\" class=\"data row2 col2\" >30</td>\n",
       "                        <td id=\"T_770fd_row2_col3\" class=\"data row2 col3\" >6.294914</td>\n",
       "            </tr>\n",
       "            <tr>\n",
       "                        <th id=\"T_770fd_level0_row3\" class=\"row_heading level0 row3\" >ucsd55</th>\n",
       "                        <td id=\"T_770fd_row3_col0\" class=\"data row3 col0\" >2021-03-30</td>\n",
       "                        <td id=\"T_770fd_row3_col1\" class=\"data row3 col1\" >153 days</td>\n",
       "                        <td id=\"T_770fd_row3_col2\" class=\"data row3 col2\" >30</td>\n",
       "                        <td id=\"T_770fd_row3_col3\" class=\"data row3 col3\" >5.104076</td>\n",
       "            </tr>\n",
       "            <tr>\n",
       "                        <th id=\"T_770fd_level0_row4\" class=\"row_heading level0 row4\" >ucsd53</th>\n",
       "                        <td id=\"T_770fd_row4_col0\" class=\"data row4 col0\" >2021-08-24</td>\n",
       "                        <td id=\"T_770fd_row4_col1\" class=\"data row4 col1\" >5 days</td>\n",
       "                        <td id=\"T_770fd_row4_col2\" class=\"data row4 col2\" >30</td>\n",
       "                        <td id=\"T_770fd_row4_col3\" class=\"data row4 col3\" >0.193915</td>\n",
       "            </tr>\n",
       "    </tbody></table>"
      ],
      "text/plain": [
       "<pandas.io.formats.style.Styler at 0x7f83b8507d60>"
      ]
     },
     "metadata": {},
     "output_type": "display_data"
    },
    {
     "data": {
      "text/markdown": [
       "Dead SLA Laptop Report"
      ],
      "text/plain": [
       "<IPython.core.display.Markdown object>"
      ]
     },
     "metadata": {},
     "output_type": "display_data"
    },
    {
     "data": {
      "text/html": [
       "<style  type=\"text/css\" >\n",
       "    #T_2f7b0_ td {\n",
       "          background-color: #FFFFFF;\n",
       "          color: #000000;\n",
       "    }    #T_2f7b0_ th {\n",
       "          background-color: #000000;\n",
       "          color: #FFFFFF;\n",
       "    }</style><table id=\"T_2f7b0_\" ><thead>    <tr>        <th class=\"blank level0\" ></th>        <th class=\"col_heading level0 col0\" >Date Updated</th>        <th class=\"col_heading level0 col1\" >Time Difference</th>        <th class=\"col_heading level0 col2\" >SLA</th>        <th class=\"col_heading level0 col3\" >SLA %</th>    </tr>    <tr>        <th class=\"index_name level0\" >Laptop</th>        <th class=\"blank\" ></th>        <th class=\"blank\" ></th>        <th class=\"blank\" ></th>        <th class=\"blank\" ></th>    </tr></thead><tbody>\n",
       "                <tr>\n",
       "                        <th id=\"T_2f7b0_level0_row0\" class=\"row_heading level0 row0\" >ucsd-merge</th>\n",
       "                        <td id=\"T_2f7b0_row0_col0\" class=\"data row0 col0\" >2014-07-24</td>\n",
       "                        <td id=\"T_2f7b0_row0_col1\" class=\"data row0 col1\" >2594 days</td>\n",
       "                        <td id=\"T_2f7b0_row0_col2\" class=\"data row0 col2\" >3000</td>\n",
       "                        <td id=\"T_2f7b0_row0_col3\" class=\"data row0 col3\" >0.864668</td>\n",
       "            </tr>\n",
       "            <tr>\n",
       "                        <th id=\"T_2f7b0_level0_row1\" class=\"row_heading level0 row1\" >ucsd45</th>\n",
       "                        <td id=\"T_2f7b0_row1_col0\" class=\"data row1 col0\" >2015-08-28</td>\n",
       "                        <td id=\"T_2f7b0_row1_col1\" class=\"data row1 col1\" >2193 days</td>\n",
       "                        <td id=\"T_2f7b0_row1_col2\" class=\"data row1 col2\" >3000</td>\n",
       "                        <td id=\"T_2f7b0_row1_col3\" class=\"data row1 col3\" >0.731257</td>\n",
       "            </tr>\n",
       "            <tr>\n",
       "                        <th id=\"T_2f7b0_level0_row2\" class=\"row_heading level0 row2\" >ucsd46</th>\n",
       "                        <td id=\"T_2f7b0_row2_col0\" class=\"data row2 col0\" >2015-08-28</td>\n",
       "                        <td id=\"T_2f7b0_row2_col1\" class=\"data row2 col1\" >2193 days</td>\n",
       "                        <td id=\"T_2f7b0_row2_col2\" class=\"data row2 col2\" >3000</td>\n",
       "                        <td id=\"T_2f7b0_row2_col3\" class=\"data row2 col3\" >0.731257</td>\n",
       "            </tr>\n",
       "            <tr>\n",
       "                        <th id=\"T_2f7b0_level0_row3\" class=\"row_heading level0 row3\" >ucsd98</th>\n",
       "                        <td id=\"T_2f7b0_row3_col0\" class=\"data row3 col0\" >2017-09-22</td>\n",
       "                        <td id=\"T_2f7b0_row3_col1\" class=\"data row3 col1\" >1437 days</td>\n",
       "                        <td id=\"T_2f7b0_row3_col2\" class=\"data row3 col2\" >3000</td>\n",
       "                        <td id=\"T_2f7b0_row3_col3\" class=\"data row3 col3\" >0.479293</td>\n",
       "            </tr>\n",
       "            <tr>\n",
       "                        <th id=\"T_2f7b0_level0_row4\" class=\"row_heading level0 row4\" >ucsd48</th>\n",
       "                        <td id=\"T_2f7b0_row4_col0\" class=\"data row4 col0\" >2018-02-26</td>\n",
       "                        <td id=\"T_2f7b0_row4_col1\" class=\"data row4 col1\" >1281 days</td>\n",
       "                        <td id=\"T_2f7b0_row4_col2\" class=\"data row4 col2\" >3000</td>\n",
       "                        <td id=\"T_2f7b0_row4_col3\" class=\"data row4 col3\" >0.427011</td>\n",
       "            </tr>\n",
       "            <tr>\n",
       "                        <th id=\"T_2f7b0_level0_row5\" class=\"row_heading level0 row5\" >ucsd43</th>\n",
       "                        <td id=\"T_2f7b0_row5_col0\" class=\"data row5 col0\" >2018-03-06</td>\n",
       "                        <td id=\"T_2f7b0_row5_col1\" class=\"data row5 col1\" >1272 days</td>\n",
       "                        <td id=\"T_2f7b0_row5_col2\" class=\"data row5 col2\" >3000</td>\n",
       "                        <td id=\"T_2f7b0_row5_col3\" class=\"data row5 col3\" >0.424314</td>\n",
       "            </tr>\n",
       "            <tr>\n",
       "                        <th id=\"T_2f7b0_level0_row6\" class=\"row_heading level0 row6\" >ucsd12</th>\n",
       "                        <td id=\"T_2f7b0_row6_col0\" class=\"data row6 col0\" >2018-03-13</td>\n",
       "                        <td id=\"T_2f7b0_row6_col1\" class=\"data row6 col1\" >1265 days</td>\n",
       "                        <td id=\"T_2f7b0_row6_col2\" class=\"data row6 col2\" >3000</td>\n",
       "                        <td id=\"T_2f7b0_row6_col3\" class=\"data row6 col3\" >0.421984</td>\n",
       "            </tr>\n",
       "            <tr>\n",
       "                        <th id=\"T_2f7b0_level0_row7\" class=\"row_heading level0 row7\" >ucsd99</th>\n",
       "                        <td id=\"T_2f7b0_row7_col0\" class=\"data row7 col0\" >2018-03-16</td>\n",
       "                        <td id=\"T_2f7b0_row7_col1\" class=\"data row7 col1\" >1262 days</td>\n",
       "                        <td id=\"T_2f7b0_row7_col2\" class=\"data row7 col2\" >3000</td>\n",
       "                        <td id=\"T_2f7b0_row7_col3\" class=\"data row7 col3\" >0.420987</td>\n",
       "            </tr>\n",
       "            <tr>\n",
       "                        <th id=\"T_2f7b0_level0_row8\" class=\"row_heading level0 row8\" >ucsd41</th>\n",
       "                        <td id=\"T_2f7b0_row8_col0\" class=\"data row8 col0\" >2018-04-11</td>\n",
       "                        <td id=\"T_2f7b0_row8_col1\" class=\"data row8 col1\" >1237 days</td>\n",
       "                        <td id=\"T_2f7b0_row8_col2\" class=\"data row8 col2\" >3000</td>\n",
       "                        <td id=\"T_2f7b0_row8_col3\" class=\"data row8 col3\" >0.412581</td>\n",
       "            </tr>\n",
       "            <tr>\n",
       "                        <th id=\"T_2f7b0_level0_row9\" class=\"row_heading level0 row9\" >ucsd23</th>\n",
       "                        <td id=\"T_2f7b0_row9_col0\" class=\"data row9 col0\" >2018-04-11</td>\n",
       "                        <td id=\"T_2f7b0_row9_col1\" class=\"data row9 col1\" >1236 days</td>\n",
       "                        <td id=\"T_2f7b0_row9_col2\" class=\"data row9 col2\" >3000</td>\n",
       "                        <td id=\"T_2f7b0_row9_col3\" class=\"data row9 col3\" >0.412300</td>\n",
       "            </tr>\n",
       "            <tr>\n",
       "                        <th id=\"T_2f7b0_level0_row10\" class=\"row_heading level0 row10\" >ucsd47</th>\n",
       "                        <td id=\"T_2f7b0_row10_col0\" class=\"data row10 col0\" >2018-04-23</td>\n",
       "                        <td id=\"T_2f7b0_row10_col1\" class=\"data row10 col1\" >1224 days</td>\n",
       "                        <td id=\"T_2f7b0_row10_col2\" class=\"data row10 col2\" >3000</td>\n",
       "                        <td id=\"T_2f7b0_row10_col3\" class=\"data row10 col3\" >0.408292</td>\n",
       "            </tr>\n",
       "            <tr>\n",
       "                        <th id=\"T_2f7b0_level0_row11\" class=\"row_heading level0 row11\" >ucsd56</th>\n",
       "                        <td id=\"T_2f7b0_row11_col0\" class=\"data row11 col0\" >2018-07-19</td>\n",
       "                        <td id=\"T_2f7b0_row11_col1\" class=\"data row11 col1\" >1138 days</td>\n",
       "                        <td id=\"T_2f7b0_row11_col2\" class=\"data row11 col2\" >3000</td>\n",
       "                        <td id=\"T_2f7b0_row11_col3\" class=\"data row11 col3\" >0.379577</td>\n",
       "            </tr>\n",
       "            <tr>\n",
       "                        <th id=\"T_2f7b0_level0_row12\" class=\"row_heading level0 row12\" >ucsd11</th>\n",
       "                        <td id=\"T_2f7b0_row12_col0\" class=\"data row12 col0\" >2018-09-25</td>\n",
       "                        <td id=\"T_2f7b0_row12_col1\" class=\"data row12 col1\" >1070 days</td>\n",
       "                        <td id=\"T_2f7b0_row12_col2\" class=\"data row12 col2\" >3000</td>\n",
       "                        <td id=\"T_2f7b0_row12_col3\" class=\"data row12 col3\" >0.356886</td>\n",
       "            </tr>\n",
       "            <tr>\n",
       "                        <th id=\"T_2f7b0_level0_row13\" class=\"row_heading level0 row13\" >ucsd42</th>\n",
       "                        <td id=\"T_2f7b0_row13_col0\" class=\"data row13 col0\" >2018-11-08</td>\n",
       "                        <td id=\"T_2f7b0_row13_col1\" class=\"data row13 col1\" >1025 days</td>\n",
       "                        <td id=\"T_2f7b0_row13_col2\" class=\"data row13 col2\" >3000</td>\n",
       "                        <td id=\"T_2f7b0_row13_col3\" class=\"data row13 col3\" >0.341929</td>\n",
       "            </tr>\n",
       "            <tr>\n",
       "                        <th id=\"T_2f7b0_level0_row14\" class=\"row_heading level0 row14\" >ucsd60</th>\n",
       "                        <td id=\"T_2f7b0_row14_col0\" class=\"data row14 col0\" >2019-09-12</td>\n",
       "                        <td id=\"T_2f7b0_row14_col1\" class=\"data row14 col1\" >717 days</td>\n",
       "                        <td id=\"T_2f7b0_row14_col2\" class=\"data row14 col2\" >3000</td>\n",
       "                        <td id=\"T_2f7b0_row14_col3\" class=\"data row14 col3\" >0.239251</td>\n",
       "            </tr>\n",
       "            <tr>\n",
       "                        <th id=\"T_2f7b0_level0_row15\" class=\"row_heading level0 row15\" >ucsd34</th>\n",
       "                        <td id=\"T_2f7b0_row15_col0\" class=\"data row15 col0\" >2020-01-29</td>\n",
       "                        <td id=\"T_2f7b0_row15_col1\" class=\"data row15 col1\" >578 days</td>\n",
       "                        <td id=\"T_2f7b0_row15_col2\" class=\"data row15 col2\" >3000</td>\n",
       "                        <td id=\"T_2f7b0_row15_col3\" class=\"data row15 col3\" >0.192976</td>\n",
       "            </tr>\n",
       "            <tr>\n",
       "                        <th id=\"T_2f7b0_level0_row16\" class=\"row_heading level0 row16\" >ucsd61</th>\n",
       "                        <td id=\"T_2f7b0_row16_col0\" class=\"data row16 col0\" >2020-11-19</td>\n",
       "                        <td id=\"T_2f7b0_row16_col1\" class=\"data row16 col1\" >284 days</td>\n",
       "                        <td id=\"T_2f7b0_row16_col2\" class=\"data row16 col2\" >3000</td>\n",
       "                        <td id=\"T_2f7b0_row16_col3\" class=\"data row16 col3\" >0.094888</td>\n",
       "            </tr>\n",
       "    </tbody></table>"
      ],
      "text/plain": [
       "<pandas.io.formats.style.Styler at 0x7f83cad15df0>"
      ]
     },
     "metadata": {},
     "output_type": "display_data"
    }
   ],
   "source": [
    "main()"
   ]
  },
  {
   "cell_type": "code",
   "execution_count": null,
   "id": "31bb2cf8",
   "metadata": {
    "papermill": {
     "duration": 0.006134,
     "end_time": "2021-08-30T18:18:26.043542",
     "exception": false,
     "start_time": "2021-08-30T18:18:26.037408",
     "status": "completed"
    },
    "tags": []
   },
   "outputs": [],
   "source": []
  }
 ],
 "metadata": {
  "interpreter": {
   "hash": "31f2aee4e71d21fbe5cf8b01ff0e069b9275f58929596ceb00d14d90e3e16cd6"
  },
  "kernelspec": {
   "display_name": "Python 3",
   "language": "python",
   "name": "python3"
  },
  "language_info": {
   "codemirror_mode": {
    "name": "ipython",
    "version": 3
   },
   "file_extension": ".py",
   "mimetype": "text/x-python",
   "name": "python",
   "nbconvert_exporter": "python",
   "pygments_lexer": "ipython3",
   "version": "3.8.5"
  },
  "papermill": {
   "default_parameters": {},
   "duration": 1.898789,
   "end_time": "2021-08-30T18:18:26.369876",
   "environment_variables": {},
   "exception": null,
   "input_path": "notebooks/SVN Reports.ipynb",
   "output_path": "samples/svn/ucsd.ipynb",
   "parameters": {
    "site": "ucsd"
   },
   "start_time": "2021-08-30T18:18:24.471087",
   "version": "2.3.3"
  }
 },
 "nbformat": 4,
 "nbformat_minor": 5
}